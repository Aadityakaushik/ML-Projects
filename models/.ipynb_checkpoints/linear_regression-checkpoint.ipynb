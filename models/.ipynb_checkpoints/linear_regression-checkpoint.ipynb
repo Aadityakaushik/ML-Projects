{
 "cells": [
  {
   "cell_type": "code",
   "execution_count": 1,
   "id": "e8fea239",
   "metadata": {},
   "outputs": [],
   "source": [
    "import pandas as pd\n",
    "import numpy as np"
   ]
  },
  {
   "cell_type": "code",
   "execution_count": 2,
   "id": "c1f537de",
   "metadata": {},
   "outputs": [],
   "source": [
    "class linear():\n",
    "    def __init__(self):\n",
    "        self.lr=0.02\n",
    "        self.itr=100\n",
    "        \n",
    "    def fit(self,x,y):\n",
    "        self.m,self.n=x.shape\n",
    "        self.w=np.zeros(self.n)\n",
    "        self.b=0\n",
    "        self.x=x\n",
    "        self.y=y\n",
    "        \n",
    "        for i in range(self.itr):\n",
    "            self.update_w()\n",
    "    \n",
    "    def update_w(self):\n",
    "        \n",
    "        y_p=self.predict(self.x)\n",
    "        \n",
    "        dw=np.dot(self.x.T,y_p - y)\n",
    "        dw*=2\n",
    "        dw=dw/self.m\n",
    "        \n",
    "        db=np.sum(y_p - y)\n",
    "        db*=2\n",
    "        db=db/self.m\n",
    "        \n",
    "        self.w=self.w - self.lr*dw\n",
    "        self.b=self.b - self.lr*db\n",
    "\n",
    "    def predict(self,x):\n",
    "        return np.dot(x,self.w)+self.b"
   ]
  },
  {
   "cell_type": "code",
   "execution_count": 3,
   "id": "18036c48",
   "metadata": {},
   "outputs": [
    {
     "data": {
      "text/plain": [
       "(30, 2)"
      ]
     },
     "execution_count": 3,
     "metadata": {},
     "output_type": "execute_result"
    }
   ],
   "source": [
    "df = pd.read_csv('~/system/vs/jupyter/dataset/Salary_dataset.csv')\n",
    "df=df.drop('Unnamed: 0',axis=1)\n",
    "df.shape"
   ]
  },
  {
   "cell_type": "code",
   "execution_count": 4,
   "id": "f85aea74",
   "metadata": {},
   "outputs": [
    {
     "data": {
      "text/plain": [
       "((30, 1),\n",
       " (30,),\n",
       " array([[ 1.2],\n",
       "        [ 1.4],\n",
       "        [ 1.6],\n",
       "        [ 2.1],\n",
       "        [ 2.3],\n",
       "        [ 3. ],\n",
       "        [ 3.1],\n",
       "        [ 3.3],\n",
       "        [ 3.3],\n",
       "        [ 3.8],\n",
       "        [ 4. ],\n",
       "        [ 4.1],\n",
       "        [ 4.1],\n",
       "        [ 4.2],\n",
       "        [ 4.6],\n",
       "        [ 5. ],\n",
       "        [ 5.2],\n",
       "        [ 5.4],\n",
       "        [ 6. ],\n",
       "        [ 6.1],\n",
       "        [ 6.9],\n",
       "        [ 7.2],\n",
       "        [ 8. ],\n",
       "        [ 8.3],\n",
       "        [ 8.8],\n",
       "        [ 9.1],\n",
       "        [ 9.6],\n",
       "        [ 9.7],\n",
       "        [10.4],\n",
       "        [10.6]]),\n",
       " array([ 39344.,  46206.,  37732.,  43526.,  39892.,  56643.,  60151.,\n",
       "         54446.,  64446.,  57190.,  63219.,  55795.,  56958.,  57082.,\n",
       "         61112.,  67939.,  66030.,  83089.,  81364.,  93941.,  91739.,\n",
       "         98274., 101303., 113813., 109432., 105583., 116970., 112636.,\n",
       "        122392., 121873.]))"
      ]
     },
     "execution_count": 4,
     "metadata": {},
     "output_type": "execute_result"
    }
   ],
   "source": [
    "x=df[['YearsExperience']].values\n",
    "y=df['Salary'].values\n",
    "x.shape,y.shape,x,y"
   ]
  },
  {
   "cell_type": "code",
   "execution_count": 5,
   "id": "312a0ad7",
   "metadata": {},
   "outputs": [],
   "source": [
    "y=y/y.mean()"
   ]
  },
  {
   "cell_type": "code",
   "execution_count": 12,
   "id": "99d47727",
   "metadata": {},
   "outputs": [
    {
     "data": {
      "text/plain": [
       "array([0.11977218])"
      ]
     },
     "execution_count": 12,
     "metadata": {},
     "output_type": "execute_result"
    }
   ],
   "source": [
    "dw=np.dot(x.T,y_pred - y)\n",
    "dw"
   ]
  },
  {
   "cell_type": "code",
   "execution_count": 6,
   "id": "2d957ac3",
   "metadata": {},
   "outputs": [],
   "source": [
    "model=linear()\n",
    "model.fit(x,y)"
   ]
  },
  {
   "cell_type": "code",
   "execution_count": 7,
   "id": "1d2315b5",
   "metadata": {},
   "outputs": [
    {
     "data": {
      "text/plain": [
       "array([0.36707724, 0.39582979, 0.42458234, 0.49646373, 0.52521628,\n",
       "       0.62585021, 0.64022649, 0.66897904, 0.66897904, 0.74086042,\n",
       "       0.76961297, 0.78398925, 0.78398925, 0.79836553, 0.85587063,\n",
       "       0.91337574, 0.94212829, 0.97088084, 1.0571385 , 1.07151477,\n",
       "       1.18652498, 1.22965381, 1.34466402, 1.38779285, 1.45967423,\n",
       "       1.50280306, 1.57468444, 1.58906072, 1.68969465, 1.71844721])"
      ]
     },
     "execution_count": 7,
     "metadata": {},
     "output_type": "execute_result"
    }
   ],
   "source": [
    "y_pred=model.predict(x)\n",
    "y_pred"
   ]
  },
  {
   "cell_type": "code",
   "execution_count": 8,
   "id": "92b19d31",
   "metadata": {},
   "outputs": [
    {
     "name": "stderr",
     "output_type": "stream",
     "text": [
      "/usr/lib/python3/dist-packages/scipy/__init__.py:146: UserWarning: A NumPy version >=1.17.3 and <1.25.0 is required for this version of SciPy (detected version 1.26.4\n",
      "  warnings.warn(f\"A NumPy version >={np_minversion} and <{np_maxversion}\"\n"
     ]
    }
   ],
   "source": [
    "from sklearn.metrics import mean_squared_error,r2_score"
   ]
  },
  {
   "cell_type": "code",
   "execution_count": 9,
   "id": "98fcb8a6",
   "metadata": {},
   "outputs": [
    {
     "data": {
      "text/plain": [
       "(0.009091735725549693, 0.9277089513535643)"
      ]
     },
     "execution_count": 9,
     "metadata": {},
     "output_type": "execute_result"
    }
   ],
   "source": [
    "mean_squared_error(y,y_pred),r2_score(y,y_pred)\n",
    "#r2 score tells if the model fits the properly or not. if r2 score is high it means that \n",
    "#the model fits the data well, and if low it does not fit data well. r2_score if good above 0.7 \n",
    "#or 0.8\n",
    "\n",
    "#mean_squared_error give the mean of all the error values."
   ]
  }
 ],
 "metadata": {
  "kernelspec": {
   "display_name": "Python 3 (ipykernel)",
   "language": "python",
   "name": "python3"
  },
  "language_info": {
   "codemirror_mode": {
    "name": "ipython",
    "version": 3
   },
   "file_extension": ".py",
   "mimetype": "text/x-python",
   "name": "python",
   "nbconvert_exporter": "python",
   "pygments_lexer": "ipython3",
   "version": "3.10.12"
  }
 },
 "nbformat": 4,
 "nbformat_minor": 5
}
