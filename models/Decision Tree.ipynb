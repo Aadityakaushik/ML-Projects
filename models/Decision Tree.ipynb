{
 "cells": [
  {
   "cell_type": "code",
   "execution_count": 1,
   "id": "a233832d",
   "metadata": {},
   "outputs": [],
   "source": [
    "import pandas as pd\n",
    "import numpy as np"
   ]
  },
  {
   "cell_type": "code",
   "execution_count": 2,
   "id": "83fb8a98",
   "metadata": {},
   "outputs": [
    {
     "data": {
      "text/html": [
       "<div>\n",
       "<style scoped>\n",
       "    .dataframe tbody tr th:only-of-type {\n",
       "        vertical-align: middle;\n",
       "    }\n",
       "\n",
       "    .dataframe tbody tr th {\n",
       "        vertical-align: top;\n",
       "    }\n",
       "\n",
       "    .dataframe thead th {\n",
       "        text-align: right;\n",
       "    }\n",
       "</style>\n",
       "<table border=\"1\" class=\"dataframe\">\n",
       "  <thead>\n",
       "    <tr style=\"text-align: right;\">\n",
       "      <th></th>\n",
       "      <th>Survived</th>\n",
       "      <th>Pclass</th>\n",
       "      <th>Sex</th>\n",
       "      <th>Age</th>\n",
       "      <th>Siblings/Spouses</th>\n",
       "      <th>Parents/Children</th>\n",
       "      <th>Fare</th>\n",
       "    </tr>\n",
       "  </thead>\n",
       "  <tbody>\n",
       "    <tr>\n",
       "      <th>0</th>\n",
       "      <td>0</td>\n",
       "      <td>3</td>\n",
       "      <td>male</td>\n",
       "      <td>22.0</td>\n",
       "      <td>1</td>\n",
       "      <td>0</td>\n",
       "      <td>7.2500</td>\n",
       "    </tr>\n",
       "    <tr>\n",
       "      <th>1</th>\n",
       "      <td>1</td>\n",
       "      <td>1</td>\n",
       "      <td>female</td>\n",
       "      <td>38.0</td>\n",
       "      <td>1</td>\n",
       "      <td>0</td>\n",
       "      <td>71.2833</td>\n",
       "    </tr>\n",
       "    <tr>\n",
       "      <th>2</th>\n",
       "      <td>1</td>\n",
       "      <td>3</td>\n",
       "      <td>female</td>\n",
       "      <td>26.0</td>\n",
       "      <td>0</td>\n",
       "      <td>0</td>\n",
       "      <td>7.9250</td>\n",
       "    </tr>\n",
       "    <tr>\n",
       "      <th>3</th>\n",
       "      <td>1</td>\n",
       "      <td>1</td>\n",
       "      <td>female</td>\n",
       "      <td>35.0</td>\n",
       "      <td>1</td>\n",
       "      <td>0</td>\n",
       "      <td>53.1000</td>\n",
       "    </tr>\n",
       "    <tr>\n",
       "      <th>4</th>\n",
       "      <td>0</td>\n",
       "      <td>3</td>\n",
       "      <td>male</td>\n",
       "      <td>35.0</td>\n",
       "      <td>0</td>\n",
       "      <td>0</td>\n",
       "      <td>8.0500</td>\n",
       "    </tr>\n",
       "  </tbody>\n",
       "</table>\n",
       "</div>"
      ],
      "text/plain": [
       "   Survived  Pclass     Sex   Age  Siblings/Spouses  Parents/Children     Fare\n",
       "0         0       3    male  22.0                 1                 0   7.2500\n",
       "1         1       1  female  38.0                 1                 0  71.2833\n",
       "2         1       3  female  26.0                 0                 0   7.9250\n",
       "3         1       1  female  35.0                 1                 0  53.1000\n",
       "4         0       3    male  35.0                 0                 0   8.0500"
      ]
     },
     "execution_count": 2,
     "metadata": {},
     "output_type": "execute_result"
    }
   ],
   "source": [
    "df=pd.read_csv(\"https://sololearn.com/uploads/files/titanic.csv\")\n",
    "df.head()"
   ]
  },
  {
   "cell_type": "code",
   "execution_count": 3,
   "id": "36ccd75e",
   "metadata": {},
   "outputs": [
    {
     "data": {
      "text/html": [
       "<div>\n",
       "<style scoped>\n",
       "    .dataframe tbody tr th:only-of-type {\n",
       "        vertical-align: middle;\n",
       "    }\n",
       "\n",
       "    .dataframe tbody tr th {\n",
       "        vertical-align: top;\n",
       "    }\n",
       "\n",
       "    .dataframe thead th {\n",
       "        text-align: right;\n",
       "    }\n",
       "</style>\n",
       "<table border=\"1\" class=\"dataframe\">\n",
       "  <thead>\n",
       "    <tr style=\"text-align: right;\">\n",
       "      <th></th>\n",
       "      <th>Survived</th>\n",
       "      <th>Pclass</th>\n",
       "      <th>Age</th>\n",
       "      <th>Siblings/Spouses</th>\n",
       "      <th>Parents/Children</th>\n",
       "      <th>Fare</th>\n",
       "      <th>sex</th>\n",
       "    </tr>\n",
       "  </thead>\n",
       "  <tbody>\n",
       "    <tr>\n",
       "      <th>0</th>\n",
       "      <td>0</td>\n",
       "      <td>3</td>\n",
       "      <td>22.0</td>\n",
       "      <td>1</td>\n",
       "      <td>0</td>\n",
       "      <td>7.2500</td>\n",
       "      <td>1</td>\n",
       "    </tr>\n",
       "    <tr>\n",
       "      <th>1</th>\n",
       "      <td>1</td>\n",
       "      <td>1</td>\n",
       "      <td>38.0</td>\n",
       "      <td>1</td>\n",
       "      <td>0</td>\n",
       "      <td>71.2833</td>\n",
       "      <td>0</td>\n",
       "    </tr>\n",
       "    <tr>\n",
       "      <th>2</th>\n",
       "      <td>1</td>\n",
       "      <td>3</td>\n",
       "      <td>26.0</td>\n",
       "      <td>0</td>\n",
       "      <td>0</td>\n",
       "      <td>7.9250</td>\n",
       "      <td>0</td>\n",
       "    </tr>\n",
       "    <tr>\n",
       "      <th>3</th>\n",
       "      <td>1</td>\n",
       "      <td>1</td>\n",
       "      <td>35.0</td>\n",
       "      <td>1</td>\n",
       "      <td>0</td>\n",
       "      <td>53.1000</td>\n",
       "      <td>0</td>\n",
       "    </tr>\n",
       "    <tr>\n",
       "      <th>4</th>\n",
       "      <td>0</td>\n",
       "      <td>3</td>\n",
       "      <td>35.0</td>\n",
       "      <td>0</td>\n",
       "      <td>0</td>\n",
       "      <td>8.0500</td>\n",
       "      <td>1</td>\n",
       "    </tr>\n",
       "  </tbody>\n",
       "</table>\n",
       "</div>"
      ],
      "text/plain": [
       "   Survived  Pclass   Age  Siblings/Spouses  Parents/Children     Fare  sex\n",
       "0         0       3  22.0                 1                 0   7.2500    1\n",
       "1         1       1  38.0                 1                 0  71.2833    0\n",
       "2         1       3  26.0                 0                 0   7.9250    0\n",
       "3         1       1  35.0                 1                 0  53.1000    0\n",
       "4         0       3  35.0                 0                 0   8.0500    1"
      ]
     },
     "execution_count": 3,
     "metadata": {},
     "output_type": "execute_result"
    }
   ],
   "source": [
    "df['sex']=df['Sex']=='male'\n",
    "df['sex']=df['sex'].astype(int)\n",
    "df.pop('Sex')\n",
    "df.head()"
   ]
  },
  {
   "cell_type": "code",
   "execution_count": 4,
   "id": "873eb609",
   "metadata": {},
   "outputs": [],
   "source": [
    "X=df[['Pclass','Age','Fare','sex']].values\n",
    "y=df['Survived'].values"
   ]
  },
  {
   "cell_type": "code",
   "execution_count": 5,
   "id": "6709da2a",
   "metadata": {},
   "outputs": [],
   "source": [
    "from sklearn.model_selection import train_test_split\n",
    "X_train,X_test,y_train,y_test=train_test_split(X,y,random_state=42)"
   ]
  },
  {
   "cell_type": "code",
   "execution_count": 6,
   "id": "41922f18",
   "metadata": {},
   "outputs": [],
   "source": [
    "from sklearn.tree import DecisionTreeClassifier"
   ]
  },
  {
   "cell_type": "code",
   "execution_count": 7,
   "id": "19d731c0",
   "metadata": {},
   "outputs": [],
   "source": [
    "model=DecisionTreeClassifier()\n",
    "model.fit(X_train,y_train)\n",
    "y_pred=model.predict(X_test)"
   ]
  },
  {
   "cell_type": "code",
   "execution_count": 8,
   "id": "46937570",
   "metadata": {},
   "outputs": [
    {
     "name": "stdout",
     "output_type": "stream",
     "text": [
      "Ascore score is 0.7853107344632768\n",
      "Rscore score is 0.7162162162162162\n",
      "F1score score is 0.736111111111111\n",
      "Ascore score is 0.7796610169491525\n",
      "Rscore score is 0.6715409439290037\n",
      "F1score score is 0.7067652329749103\n"
     ]
    }
   ],
   "source": [
    "from sklearn.metrics import accuracy_score,recall_score,f1_score\n",
    "from sklearn.model_selection import KFold\n",
    "\n",
    "accr=[]\n",
    "recc=[]\n",
    "f1_sc=[]\n",
    "kf=KFold(n_splits=5,shuffle=True)\n",
    "for criterion in ['gini','entropy']:\n",
    "    for tr_indice,te_indice in kf.split(X):\n",
    "        X_train,X_test=X[tr_indice],X[te_indice]\n",
    "        y_train,y_test=y[tr_indice],y[te_indice]\n",
    "    dt=DecisionTreeClassifier(criterion=criterion)\n",
    "    dt.fit(X_train,y_train)\n",
    "    y_pred=dt.predict(X_test)\n",
    "    accr.append(accuracy_score(y_test,y_pred))\n",
    "    recc.append(recall_score(y_test,y_pred))\n",
    "    f1_sc.append(f1_score(y_test,y_pred))\n",
    "    Ascore=np.mean(accr)\n",
    "    Rscore=np.mean(recc)\n",
    "    F1score=np.mean(f1_sc)\n",
    "    for n,m in [[Ascore,'Ascore'],[Rscore,'Rscore'],[F1score,'F1score']]:\n",
    "        print(\"{} score is {}\".format(m,n))\n"
   ]
  },
  {
   "cell_type": "markdown",
   "id": "68becc50",
   "metadata": {},
   "source": [
    "creating a PNG image of Decision tree"
   ]
  },
  {
   "cell_type": "code",
   "execution_count": 9,
   "id": "14394082",
   "metadata": {},
   "outputs": [],
   "source": [
    "# from sklearn.tree import export_graphviz\n",
    "# import graphviz\n",
    "# feature_names=['Pclass','Age','Fare','sex']\n",
    "# X=df[feature_names].values\n",
    "# y=df['Survived'].values\n",
    "# model1 = DecisionTreeClassifier()\n",
    "# model1.fit(X, y)\n",
    "# dot_file = export_graphviz(dt, feature_names=feature_names)\n",
    "# graph = graphviz.Source(dot_file)\n",
    "# graph.render(filename='tree', format='png', cleanup=True)\n"
   ]
  },
  {
   "cell_type": "markdown",
   "id": "769ad422",
   "metadata": {},
   "source": [
    "# pruning the decision tree"
   ]
  },
  {
   "cell_type": "code",
   "execution_count": 10,
   "id": "5736990c",
   "metadata": {},
   "outputs": [
    {
     "name": "stdout",
     "output_type": "stream",
     "text": [
      "0.804964133815781\n",
      "[0.797752808988764, 0.8089887640449438, 0.8305084745762712, 0.807909604519774, 0.7796610169491526]\n"
     ]
    }
   ],
   "source": [
    "model2=DecisionTreeClassifier(max_depth=3,max_leaf_nodes=10,min_samples_leaf=2)\n",
    "accr=[]\n",
    "recall=[]\n",
    "kf=KFold(n_splits=5,shuffle=True)\n",
    "\n",
    "for train_indice,test_indice in kf.split(X):\n",
    "    X_train2,X_test2=X[train_indice],X[test_indice]\n",
    "    y_train2,y_test2=y[train_indice],y[test_indice]\n",
    "    model2.fit(X_train2,y_train2)\n",
    "    y_pred2=model2.predict(X_test2)\n",
    "    accr.append(accuracy_score(y_test2,y_pred2))\n",
    "print(np.mean(accr))\n",
    "print(accr)"
   ]
  },
  {
   "cell_type": "code",
   "execution_count": 11,
   "id": "3611e21c",
   "metadata": {},
   "outputs": [],
   "source": [
    "# from sklearn.tree import export_graphviz\n",
    "# import graphviz\n",
    "# feature_names=['Pclass','Age','Fare','sex']\n",
    "# X=df[feature_names].values\n",
    "# y=df['Survived'].values\n",
    "# model1 = DecisionTreeClassifier(max_depth=1,max_leaf_nodes=10,min_samples_leaf=2)\n",
    "# model1.fit(X, y)\n",
    "# dot_file = export_graphviz(dt, feature_names=feature_names)\n",
    "# graph = graphviz.Source(dot_file)\n",
    "# graph.render(filename='tree1', format='png', cleanup=True)"
   ]
  },
  {
   "cell_type": "markdown",
   "id": "15959a16",
   "metadata": {},
   "source": [
    "# grid search"
   ]
  },
  {
   "cell_type": "code",
   "execution_count": 18,
   "id": "63300e83",
   "metadata": {},
   "outputs": [
    {
     "name": "stdout",
     "output_type": "stream",
     "text": [
      "0.7719882639542502\n"
     ]
    },
    {
     "data": {
      "text/plain": [
       "{'max_depth': 15, 'max_leaf_nodes': 35, 'min_samples_leaf': 3}"
      ]
     },
     "execution_count": 18,
     "metadata": {},
     "output_type": "execute_result"
    }
   ],
   "source": [
    "from sklearn.model_selection import GridSearchCV\n",
    "model3=DecisionTreeClassifier()\n",
    "param_grid={'max_depth':[5,10,15],\n",
    "           'min_samples_leaf':[1,3],\n",
    "           'max_leaf_nodes':[10,20,35,50]}\n",
    "\n",
    "gs=GridSearchCV(model3,param_grid,cv=5,scoring='f1')\n",
    "gs.fit(X,y)\n",
    "print(gs.best_score_)\n",
    "gs.best_params_"
   ]
  },
  {
   "cell_type": "code",
   "execution_count": null,
   "id": "5fa82bea",
   "metadata": {},
   "outputs": [],
   "source": [
    "S = [int(x) for x in input().split()]\n",
    "A = [int(x) for x in input().split()]\n",
    "B = [int(x) for x in input().split()]\n",
    "p1=sum(S)/len(S)\n",
    "imp1=2*p1*(1-p1)\n",
    "p2=sum(A)/len(A)\n",
    "imp2=2*p2*(1-p2)\n",
    "p3=sum(B)/len(B)\n",
    "imp3=2*p3*(1-p3)\n",
    "i=imp1-len(A)/len(S)*imp2-len(B)/len(S)*imp3\n",
    "print(round(i,5))"
   ]
  }
 ],
 "metadata": {
  "kernelspec": {
   "display_name": "Python 3 (ipykernel)",
   "language": "python",
   "name": "python3"
  },
  "language_info": {
   "codemirror_mode": {
    "name": "ipython",
    "version": 3
   },
   "file_extension": ".py",
   "mimetype": "text/x-python",
   "name": "python",
   "nbconvert_exporter": "python",
   "pygments_lexer": "ipython3",
   "version": "3.9.12"
  }
 },
 "nbformat": 4,
 "nbformat_minor": 5
}
