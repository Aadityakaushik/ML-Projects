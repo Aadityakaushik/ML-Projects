{
 "cells": [
  {
   "cell_type": "code",
   "execution_count": 19,
   "id": "c8e00841",
   "metadata": {},
   "outputs": [],
   "source": [
    "import cv2\n",
    "import time\n",
    "import os\n",
    "from uuid import uuid1"
   ]
  },
  {
   "cell_type": "code",
   "execution_count": 50,
   "id": "0f760c2a",
   "metadata": {},
   "outputs": [],
   "source": [
    "img_num = 30\n",
    "image_path = os.path.join('data','images')"
   ]
  },
  {
   "cell_type": "code",
   "execution_count": 21,
   "id": "ce246fd0",
   "metadata": {},
   "outputs": [
    {
     "data": {
      "text/plain": [
       "'data/images'"
      ]
     },
     "execution_count": 21,
     "metadata": {},
     "output_type": "execute_result"
    }
   ],
   "source": [
    "image_path"
   ]
  },
  {
   "cell_type": "code",
   "execution_count": 22,
   "id": "cf1c3746",
   "metadata": {},
   "outputs": [
    {
     "name": "stdout",
     "output_type": "stream",
     "text": [
      "data/images/acac13dc-cf1f-11ee-b36c-1c9957e84bb2.jpg\n"
     ]
    }
   ],
   "source": [
    "img_name = os.path.join(image_path,f'{uuid1()}.jpg')\n",
    "print(img_name)"
   ]
  },
  {
   "cell_type": "code",
   "execution_count": 53,
   "id": "6123cf68",
   "metadata": {},
   "outputs": [],
   "source": [
    "# cap=cv2.VideoCapture(0)\n",
    "# while cap.isOpened():\n",
    "#     ret,frame = cap.read()\n",
    "#     cv2.imshow(\"frame\",frame)\n",
    "#     time.sleep(1)\n",
    "    \n",
    "#     if cv2.waitKey(1) & 0xFF == ord('q'):\n",
    "#         break\n",
    "# cap.release()\n",
    "# cv2.destroyAllWindows()"
   ]
  },
  {
   "cell_type": "code",
   "execution_count": 51,
   "id": "b5dfe5da",
   "metadata": {},
   "outputs": [
    {
     "name": "stdout",
     "output_type": "stream",
     "text": [
      "data/images/train/5ee5161a-cf21-11ee-b36c-1c9957e84bb2.jpg\n",
      "data/images/train/5f37b8a2-cf21-11ee-b36c-1c9957e84bb2.jpg\n",
      "data/images/train/5f87b898-cf21-11ee-b36c-1c9957e84bb2.jpg\n",
      "data/images/train/5fd6822a-cf21-11ee-b36c-1c9957e84bb2.jpg\n",
      "data/images/train/6025501c-cf21-11ee-b36c-1c9957e84bb2.jpg\n",
      "data/images/train/60740c16-cf21-11ee-b36c-1c9957e84bb2.jpg\n",
      "data/images/train/60c316ee-cf21-11ee-b36c-1c9957e84bb2.jpg\n",
      "data/images/train/611207f4-cf21-11ee-b36c-1c9957e84bb2.jpg\n",
      "data/images/train/61612690-cf21-11ee-b36c-1c9957e84bb2.jpg\n",
      "data/images/train/61b005b2-cf21-11ee-b36c-1c9957e84bb2.jpg\n",
      "data/images/train/61fee128-cf21-11ee-b36c-1c9957e84bb2.jpg\n",
      "data/images/train/624d9534-cf21-11ee-b36c-1c9957e84bb2.jpg\n",
      "data/images/train/629c4e9a-cf21-11ee-b36c-1c9957e84bb2.jpg\n",
      "data/images/train/62eb0bf2-cf21-11ee-b36c-1c9957e84bb2.jpg\n",
      "data/images/train/6339ccc4-cf21-11ee-b36c-1c9957e84bb2.jpg\n",
      "data/images/train/638884a4-cf21-11ee-b36c-1c9957e84bb2.jpg\n",
      "data/images/train/63d74bb6-cf21-11ee-b36c-1c9957e84bb2.jpg\n",
      "data/images/train/6427b808-cf21-11ee-b36c-1c9957e84bb2.jpg\n",
      "data/images/train/6477c154-cf21-11ee-b36c-1c9957e84bb2.jpg\n",
      "data/images/train/64c76286-cf21-11ee-b36c-1c9957e84bb2.jpg\n",
      "data/images/train/65166598-cf21-11ee-b36c-1c9957e84bb2.jpg\n",
      "data/images/train/656676c8-cf21-11ee-b36c-1c9957e84bb2.jpg\n",
      "data/images/train/65b684e2-cf21-11ee-b36c-1c9957e84bb2.jpg\n",
      "data/images/train/6606c880-cf21-11ee-b36c-1c9957e84bb2.jpg\n",
      "data/images/train/6656542c-cf21-11ee-b36c-1c9957e84bb2.jpg\n",
      "data/images/train/66a6b2c8-cf21-11ee-b36c-1c9957e84bb2.jpg\n",
      "data/images/train/66f6c628-cf21-11ee-b36c-1c9957e84bb2.jpg\n",
      "data/images/train/6746d924-cf21-11ee-b36c-1c9957e84bb2.jpg\n",
      "data/images/train/6796dc4e-cf21-11ee-b36c-1c9957e84bb2.jpg\n",
      "data/images/train/67e575ca-cf21-11ee-b36c-1c9957e84bb2.jpg\n"
     ]
    }
   ],
   "source": [
    "#for training images\n",
    "\n",
    "cap = cv2.VideoCapture(0)\n",
    "image_path_train = image_path+'/train'\n",
    "for i in range(img_num):\n",
    "    ret,frame = cap.read()\n",
    "    img_name = os.path.join(image_path_train,f'{uuid1()}.jpg')\n",
    "    print(img_name)\n",
    "    cv2.imwrite(img_name,frame)\n",
    "    cv2.imshow('frame',frame)\n",
    "    time.sleep(0.5)\n",
    "    \n",
    "    if cv2.waitKey(1) & 0xFF == ord('q'):\n",
    "        break\n",
    "cap.release()\n",
    "cv2.destroyAllWindows()"
   ]
  },
  {
   "cell_type": "code",
   "execution_count": 41,
   "id": "b13f7312",
   "metadata": {},
   "outputs": [
    {
     "name": "stdout",
     "output_type": "stream",
     "text": [
      "data/images/test/e987c6ce-cf20-11ee-b36c-1c9957e84bb2.jpg\n",
      "data/images/test/e9dc4136-cf20-11ee-b36c-1c9957e84bb2.jpg\n",
      "data/images/test/ea2b0172-cf20-11ee-b36c-1c9957e84bb2.jpg\n",
      "data/images/test/ea7a1726-cf20-11ee-b36c-1c9957e84bb2.jpg\n",
      "data/images/test/eac8b836-cf20-11ee-b36c-1c9957e84bb2.jpg\n",
      "data/images/test/eb174d48-cf20-11ee-b36c-1c9957e84bb2.jpg\n",
      "data/images/test/eb65f5b0-cf20-11ee-b36c-1c9957e84bb2.jpg\n",
      "data/images/test/ebb49fc6-cf20-11ee-b36c-1c9957e84bb2.jpg\n",
      "data/images/test/ec046d9e-cf20-11ee-b36c-1c9957e84bb2.jpg\n",
      "data/images/test/ec540b60-cf20-11ee-b36c-1c9957e84bb2.jpg\n",
      "data/images/test/eca42a46-cf20-11ee-b36c-1c9957e84bb2.jpg\n",
      "data/images/test/ecf3faf8-cf20-11ee-b36c-1c9957e84bb2.jpg\n",
      "data/images/test/ed42ce30-cf20-11ee-b36c-1c9957e84bb2.jpg\n",
      "data/images/test/ed916112-cf20-11ee-b36c-1c9957e84bb2.jpg\n",
      "data/images/test/ede013f2-cf20-11ee-b36c-1c9957e84bb2.jpg\n"
     ]
    }
   ],
   "source": [
    "#for test images\n",
    "#for training images\n",
    "\n",
    "cap = cv2.VideoCapture(0)\n",
    "image_path_test = image_path + '/test'\n",
    "for i in range(img_num):\n",
    "    ret,frame = cap.read()\n",
    "    img_name = os.path.join(image_path_test,f'{uuid1()}.jpg')\n",
    "    print(img_name)\n",
    "    cv2.imwrite(img_name,frame)\n",
    "    cv2.imshow('frame',frame)\n",
    "    time.sleep(0.5)\n",
    "    \n",
    "    if cv2.waitKey(1) & 0xFF == ord('q'):\n",
    "        break\n",
    "cap.release()\n",
    "cv2.destroyAllWindows()"
   ]
  },
  {
   "cell_type": "code",
   "execution_count": 47,
   "id": "942a6f65",
   "metadata": {},
   "outputs": [
    {
     "name": "stdout",
     "output_type": "stream",
     "text": [
      "data/images/val/1e45a7d2-cf21-11ee-b36c-1c9957e84bb2.jpg\n",
      "data/images/val/1e96bffa-cf21-11ee-b36c-1c9957e84bb2.jpg\n",
      "data/images/val/1ee690c0-cf21-11ee-b36c-1c9957e84bb2.jpg\n",
      "data/images/val/1f351132-cf21-11ee-b36c-1c9957e84bb2.jpg\n",
      "data/images/val/1f83c052-cf21-11ee-b36c-1c9957e84bb2.jpg\n",
      "data/images/val/1fd25bf4-cf21-11ee-b36c-1c9957e84bb2.jpg\n",
      "data/images/val/202116b8-cf21-11ee-b36c-1c9957e84bb2.jpg\n",
      "data/images/val/20702ad2-cf21-11ee-b36c-1c9957e84bb2.jpg\n",
      "data/images/val/20bec796-cf21-11ee-b36c-1c9957e84bb2.jpg\n",
      "data/images/val/210e4bea-cf21-11ee-b36c-1c9957e84bb2.jpg\n",
      "data/images/val/215cf31c-cf21-11ee-b36c-1c9957e84bb2.jpg\n",
      "data/images/val/21abb0c4-cf21-11ee-b36c-1c9957e84bb2.jpg\n",
      "data/images/val/21fa6a70-cf21-11ee-b36c-1c9957e84bb2.jpg\n",
      "data/images/val/2249ed02-cf21-11ee-b36c-1c9957e84bb2.jpg\n",
      "data/images/val/22987c9c-cf21-11ee-b36c-1c9957e84bb2.jpg\n"
     ]
    }
   ],
   "source": [
    "#for val images\n",
    "cap = cv2.VideoCapture(0)\n",
    "image_path_val = image_path + '/val'\n",
    "for i in range(img_num):\n",
    "    ret,frame = cap.read()\n",
    "    img_name = os.path.join(image_path_val,f'{uuid1()}.jpg')\n",
    "    print(img_name)\n",
    "    cv2.imwrite(img_name,frame)\n",
    "    cv2.imshow('frame',frame)\n",
    "    time.sleep(0.5)\n",
    "    \n",
    "    if cv2.waitKey(1) & 0xFF == ord('q'):\n",
    "        break\n",
    "cap.release()\n",
    "cv2.destroyAllWindows()"
   ]
  }
 ],
 "metadata": {
  "kernelspec": {
   "display_name": "Python 3 (ipykernel)",
   "language": "python",
   "name": "python3"
  },
  "language_info": {
   "codemirror_mode": {
    "name": "ipython",
    "version": 3
   },
   "file_extension": ".py",
   "mimetype": "text/x-python",
   "name": "python",
   "nbconvert_exporter": "python",
   "pygments_lexer": "ipython3",
   "version": "3.10.12"
  }
 },
 "nbformat": 4,
 "nbformat_minor": 5
}
