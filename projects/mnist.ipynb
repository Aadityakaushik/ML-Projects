{
 "cells": [
  {
   "cell_type": "code",
   "execution_count": 20,
   "id": "fd7c4d55",
   "metadata": {},
   "outputs": [],
   "source": [
    "# import numpy as np # linear algebra\n",
    "# import struct\n",
    "# from array import array\n",
    "# from os.path  import join\n",
    "\n",
    "# #\n",
    "# # MNIST Data Loader Class\n",
    "# #\n",
    "# class MnistDataloader(object):\n",
    "#     def __init__(self, training_images_filepath,training_labels_filepath,\n",
    "#                  test_images_filepath, test_labels_filepath):\n",
    "#         self.training_images_filepath = training_images_filepath\n",
    "#         self.training_labels_filepath = training_labels_filepath\n",
    "#         self.test_images_filepath = test_images_filepath\n",
    "#         self.test_labels_filepath = test_labels_filepath\n",
    "    \n",
    "#     def read_images_labels(self, images_filepath, labels_filepath):        \n",
    "#         labels = []\n",
    "#         with open(labels_filepath, 'rb') as file:\n",
    "#             magic, size = struct.unpack(\">II\", file.read(8))\n",
    "#             if magic != 2049:\n",
    "#                 raise ValueError('Magic number mismatch, expected 2049, got {}'.format(magic))\n",
    "#             labels = array(\"B\", file.read())        \n",
    "        \n",
    "#         with open(images_filepath, 'rb') as file:\n",
    "#             magic, size, rows, cols = struct.unpack(\">IIII\", file.read(16))\n",
    "#             if magic != 2051:\n",
    "#                 raise ValueError('Magic number mismatch, expected 2051, got {}'.format(magic))\n",
    "#             image_data = array(\"B\", file.read())        \n",
    "#         images = []\n",
    "#         for i in range(size):\n",
    "#             images.append([0] * rows * cols)\n",
    "#         for i in range(size):\n",
    "#             img = np.array(image_data[i * rows * cols:(i + 1) * rows * cols])\n",
    "#             img = img.reshape(28, 28)\n",
    "#             images[i][:] = img            \n",
    "        \n",
    "#         return images, labels\n",
    "            \n",
    "#     def load_data(self):\n",
    "#         x_train, y_train = self.read_images_labels(self.training_images_filepath, self.training_labels_filepath)\n",
    "#         x_test, y_test = self.read_images_labels(self.test_images_filepath, self.test_labels_filepath)\n",
    "#         return (x_train, y_train),(x_test, y_test)"
   ]
  },
  {
   "cell_type": "code",
   "execution_count": 21,
   "id": "52a6d391",
   "metadata": {},
   "outputs": [],
   "source": [
    "# input_path = '/home/aaditya/system/vs/jupyter/dataset/mnist'\n",
    "# training_images_filepath = join(input_path, 'train-images-idx3-ubyte/train-images-idx3-ubyte')\n",
    "# training_labels_filepath = join(input_path, 'train-labels-idx1-ubyte/train-labels-idx1-ubyte')\n",
    "# test_images_filepath = join(input_path, 't10k-images-idx3-ubyte/t10k-images-idx3-ubyte')\n",
    "# test_labels_filepath = join(input_path, 't10k-labels-idx1-ubyte/t10k-labels-idx1-ubyte')"
   ]
  },
  {
   "cell_type": "code",
   "execution_count": 22,
   "id": "c31becbb",
   "metadata": {},
   "outputs": [],
   "source": [
    "# #\n",
    "# mnist_dataloader = MnistDataloader(training_images_filepath, training_labels_filepath, test_images_filepath, test_labels_filepath)\n",
    "# (x_train, y_train), (x_test, y_test) = mnist_dataloader.load_data()"
   ]
  },
  {
   "cell_type": "code",
   "execution_count": 23,
   "id": "6108b970",
   "metadata": {},
   "outputs": [],
   "source": [
    "# import random\n",
    "# import matplotlib.pyplot as plt\n",
    "# def show_images(images, title_texts):\n",
    "#     cols = 5\n",
    "#     rows = int(len(images)/cols) + 1\n",
    "#     plt.figure(figsize=(30,20))\n",
    "#     index = 1    \n",
    "#     for x in zip(images, title_texts):        \n",
    "#         image = x[0]        \n",
    "#         title_text = x[1]\n",
    "#         plt.subplot(rows, cols, index)        \n",
    "#         plt.imshow(image, cmap=plt.cm.gray)\n",
    "#         if (title_text != ''):\n",
    "#             plt.title(title_text, fontsize = 15);        \n",
    "#         index += 1"
   ]
  },
  {
   "cell_type": "code",
   "execution_count": 24,
   "id": "7b3df92e",
   "metadata": {},
   "outputs": [],
   "source": [
    "# images_2_show = []\n",
    "# titles_2_show = []\n",
    "# for i in range(0, 10):\n",
    "#     r = random.randint(1, 60000)\n",
    "#     images_2_show.append(x_train[r])\n",
    "#     titles_2_show.append('training image [' + str(r) + '] = ' + str(y_train[r]))    \n",
    "\n",
    "# for i in range(0, 5):\n",
    "#     r = random.randint(1, 10000)\n",
    "#     images_2_show.append(x_test[r])        \n",
    "#     titles_2_show.append('test image [' + str(r) + '] = ' + str(y_test[r]))    \n",
    "\n",
    "# show_images(images_2_show, titles_2_show)"
   ]
  },
  {
   "cell_type": "code",
   "execution_count": 1,
   "id": "c5266f43",
   "metadata": {},
   "outputs": [
    {
     "name": "stderr",
     "output_type": "stream",
     "text": [
      "2024-02-18 14:57:09.102715: I external/local_tsl/tsl/cuda/cudart_stub.cc:31] Could not find cuda drivers on your machine, GPU will not be used.\n",
      "2024-02-18 14:57:09.191904: E external/local_xla/xla/stream_executor/cuda/cuda_dnn.cc:9261] Unable to register cuDNN factory: Attempting to register factory for plugin cuDNN when one has already been registered\n",
      "2024-02-18 14:57:09.191987: E external/local_xla/xla/stream_executor/cuda/cuda_fft.cc:607] Unable to register cuFFT factory: Attempting to register factory for plugin cuFFT when one has already been registered\n",
      "2024-02-18 14:57:09.194382: E external/local_xla/xla/stream_executor/cuda/cuda_blas.cc:1515] Unable to register cuBLAS factory: Attempting to register factory for plugin cuBLAS when one has already been registered\n",
      "2024-02-18 14:57:09.207215: I external/local_tsl/tsl/cuda/cudart_stub.cc:31] Could not find cuda drivers on your machine, GPU will not be used.\n",
      "2024-02-18 14:57:09.208147: I tensorflow/core/platform/cpu_feature_guard.cc:182] This TensorFlow binary is optimized to use available CPU instructions in performance-critical operations.\n",
      "To enable the following instructions: AVX2 FMA, in other operations, rebuild TensorFlow with the appropriate compiler flags.\n",
      "2024-02-18 14:57:11.010618: W tensorflow/compiler/tf2tensorrt/utils/py_utils.cc:38] TF-TRT Warning: Could not find TensorRT\n",
      "/usr/lib/python3/dist-packages/scipy/__init__.py:146: UserWarning: A NumPy version >=1.17.3 and <1.25.0 is required for this version of SciPy (detected version 1.26.4\n",
      "  warnings.warn(f\"A NumPy version >={np_minversion} and <{np_maxversion}\"\n"
     ]
    }
   ],
   "source": [
    "import tensorflow.keras.datasets"
   ]
  },
  {
   "cell_type": "code",
   "execution_count": 2,
   "id": "be408db3",
   "metadata": {},
   "outputs": [],
   "source": [
    "(x_train,y_train),(x_test,y_test) = tensorflow.keras.datasets.mnist.load_data()"
   ]
  },
  {
   "cell_type": "code",
   "execution_count": 3,
   "id": "ba334261",
   "metadata": {},
   "outputs": [
    {
     "data": {
      "text/plain": [
       "((60000, 28, 28), (60000,))"
      ]
     },
     "execution_count": 3,
     "metadata": {},
     "output_type": "execute_result"
    }
   ],
   "source": [
    "x_train.shape,y_train.shape"
   ]
  },
  {
   "cell_type": "code",
   "execution_count": 28,
   "id": "4cc5f716",
   "metadata": {},
   "outputs": [],
   "source": [
    "y_train.reshape((-1,1))"
   ]
  },
  {
   "cell_type": "code",
   "execution_count": 29,
   "id": "a3eac860",
   "metadata": {},
   "outputs": [],
   "source": [
    "x_train=x_train/255\n",
    "x_test=x_test/255"
   ]
  },
  {
   "cell_type": "code",
   "execution_count": 30,
   "id": "ed24988b",
   "metadata": {},
   "outputs": [],
   "source": [
    "import tensorflow as tf\n",
    "from tensorflow.keras import Sequential\n",
    "from tensorflow.keras.layers import Dense,Flatten"
   ]
  },
  {
   "cell_type": "code",
   "execution_count": 31,
   "id": "7d30d5f4",
   "metadata": {},
   "outputs": [],
   "source": [
    "model = Sequential([\n",
    "    Flatten(input_shape=(28,28)),\n",
    "    Dense(units=128,activation='sigmoid',name='layer1'),\n",
    "    Dense(units=10,activation='softmax',name='second'),\n",
    "#     Dense(units=1,activation='sigmoid',name='o/player'),\n",
    "\n",
    "])"
   ]
  },
  {
   "cell_type": "code",
   "execution_count": 32,
   "id": "42c17ce8",
   "metadata": {},
   "outputs": [],
   "source": [
    "model.summary()"
   ]
  },
  {
   "cell_type": "code",
   "execution_count": 33,
   "id": "f49d4008",
   "metadata": {},
   "outputs": [],
   "source": [
    "model.compile(loss='sparse_categorical_crossentropy',optimizer=tf.keras.optimizers.Adam(learning_rate=1e-3))"
   ]
  },
  {
   "cell_type": "code",
   "execution_count": 34,
   "id": "38873855",
   "metadata": {},
   "outputs": [],
   "source": [
    "model.fit(x_train,y_train,epochs=5)"
   ]
  },
  {
   "cell_type": "code",
   "execution_count": 35,
   "id": "40884ea7",
   "metadata": {},
   "outputs": [],
   "source": [
    "model.evaluate(x_test,y_test)"
   ]
  },
  {
   "cell_type": "code",
   "execution_count": 36,
   "id": "c4f36e62",
   "metadata": {},
   "outputs": [],
   "source": [
    "ans=model.predict(x_test)"
   ]
  },
  {
   "cell_type": "code",
   "execution_count": 37,
   "id": "ad16b4cc",
   "metadata": {},
   "outputs": [],
   "source": [
    "ans[2]"
   ]
  },
  {
   "cell_type": "code",
   "execution_count": 38,
   "id": "59fede03",
   "metadata": {},
   "outputs": [],
   "source": [
    "y_test[2]"
   ]
  },
  {
   "cell_type": "code",
   "execution_count": 39,
   "id": "2db0179a",
   "metadata": {},
   "outputs": [],
   "source": [
    "model_recognition=Sequential([\n",
    "    Dense(units=25,activation='relu'),\n",
    "    Dense(units=15,activation='relu'),\n",
    "    Dense(units=1,activation='linear')\n",
    "])"
   ]
  },
  {
   "cell_type": "code",
   "execution_count": 40,
   "id": "43e0b7de",
   "metadata": {},
   "outputs": [],
   "source": [
    "from tensorflow.keras.losses import BinaryCrossentropy"
   ]
  },
  {
   "cell_type": "code",
   "execution_count": 41,
   "id": "f6ede483",
   "metadata": {},
   "outputs": [],
   "source": [
    "#from logit gives more numerically accurate result\n",
    "model_recognition.compile(loss=BinaryCrossentropy(from_logits=True))"
   ]
  },
  {
   "cell_type": "code",
   "execution_count": null,
   "id": "393942c1",
   "metadata": {},
   "outputs": [],
   "source": [
    "model.fit(x_train,y_train,epochs=5)"
   ]
  },
  {
   "cell_type": "code",
   "execution_count": null,
   "id": "8c79b5f3",
   "metadata": {},
   "outputs": [],
   "source": [
    "logit=model_recognition(x_train)"
   ]
  },
  {
   "cell_type": "code",
   "execution_count": null,
   "id": "20275743",
   "metadata": {},
   "outputs": [],
   "source": [
    "f_x = tf.nn.sigmoid(logit)"
   ]
  },
  {
   "cell_type": "code",
   "execution_count": null,
   "id": "723b0b85",
   "metadata": {},
   "outputs": [],
   "source": [
    "f_x"
   ]
  },
  {
   "cell_type": "code",
   "execution_count": null,
   "id": "2d0ee854",
   "metadata": {},
   "outputs": [],
   "source": [
    "# model_recognition.predict(x_test[0])"
   ]
  },
  {
   "cell_type": "code",
   "execution_count": null,
   "id": "4c61b650",
   "metadata": {},
   "outputs": [],
   "source": []
  }
 ],
 "metadata": {
  "kernelspec": {
   "display_name": "Python 3 (ipykernel)",
   "language": "python",
   "name": "python3"
  },
  "language_info": {
   "codemirror_mode": {
    "name": "ipython",
    "version": 3
   },
   "file_extension": ".py",
   "mimetype": "text/x-python",
   "name": "python",
   "nbconvert_exporter": "python",
   "pygments_lexer": "ipython3",
   "version": "3.10.12"
  }
 },
 "nbformat": 4,
 "nbformat_minor": 5
}
