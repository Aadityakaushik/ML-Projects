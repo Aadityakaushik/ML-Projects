{
 "cells": [
  {
   "cell_type": "code",
   "execution_count": 1,
   "id": "e766a7ee",
   "metadata": {},
   "outputs": [
    {
     "data": {
      "text/plain": [
       "array(['HipHop'], dtype=object)"
      ]
     },
     "execution_count": 1,
     "metadata": {},
     "output_type": "execute_result"
    }
   ],
   "source": [
    "import pandas as pd\n",
    "from sklearn.tree import DecisionTreeClassifier\n",
    "# from sklearn.externals import joblib\n",
    "import joblib\n",
    "# from sklearn.model_selection import train_test_split\n",
    "# from sklearn.metrics import accuracy_score\n",
    "\n",
    "\n",
    "data=pd.read_csv(\"music.csv\")\n",
    "X = data.drop(columns=['genre'])\n",
    "y = data[\"genre\"]\n",
    "model=DecisionTreeClassifier()\n",
    "model.fit(X.values,y)\n",
    "joblib.load('music-recommender.joblib')\n",
    "prediction=model.predict([[21,1]])\n",
    "prediction\n",
    "\n",
    "# X_train,X_test,y_train,y_test=train_test_split(X,y,test_size=0.2)\n",
    "# model.fit(X_train , y_train) ,for accuracy\n",
    "\n",
    "#prediction = model.predict(X_test)\n",
    "# score=accuracy_score(y_test,prediction)\n",
    "# score\n"
   ]
  }
 ],
 "metadata": {
  "kernelspec": {
   "display_name": "Python 3 (ipykernel)",
   "language": "python",
   "name": "python3"
  },
  "language_info": {
   "codemirror_mode": {
    "name": "ipython",
    "version": 3
   },
   "file_extension": ".py",
   "mimetype": "text/x-python",
   "name": "python",
   "nbconvert_exporter": "python",
   "pygments_lexer": "ipython3",
   "version": "3.9.12"
  }
 },
 "nbformat": 4,
 "nbformat_minor": 5
}
