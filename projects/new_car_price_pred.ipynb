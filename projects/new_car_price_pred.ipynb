{
 "cells": [
  {
   "cell_type": "code",
   "execution_count": 506,
   "id": "06490101",
   "metadata": {},
   "outputs": [],
   "source": [
    "import pandas as pd\n",
    "import numpy as np"
   ]
  },
  {
   "cell_type": "code",
   "execution_count": 507,
   "id": "e8df7747",
   "metadata": {},
   "outputs": [
    {
     "data": {
      "text/html": [
       "<div>\n",
       "<style scoped>\n",
       "    .dataframe tbody tr th:only-of-type {\n",
       "        vertical-align: middle;\n",
       "    }\n",
       "\n",
       "    .dataframe tbody tr th {\n",
       "        vertical-align: top;\n",
       "    }\n",
       "\n",
       "    .dataframe thead th {\n",
       "        text-align: right;\n",
       "    }\n",
       "</style>\n",
       "<table border=\"1\" class=\"dataframe\">\n",
       "  <thead>\n",
       "    <tr style=\"text-align: right;\">\n",
       "      <th></th>\n",
       "      <th>ID</th>\n",
       "      <th>Price</th>\n",
       "      <th>Levy</th>\n",
       "      <th>Manufacturer</th>\n",
       "      <th>Model</th>\n",
       "      <th>Prod. year</th>\n",
       "      <th>Category</th>\n",
       "      <th>Leather interior</th>\n",
       "      <th>Fuel type</th>\n",
       "      <th>Engine volume</th>\n",
       "      <th>Mileage</th>\n",
       "      <th>Cylinders</th>\n",
       "      <th>Gear box type</th>\n",
       "      <th>Drive wheels</th>\n",
       "      <th>Doors</th>\n",
       "      <th>Wheel</th>\n",
       "      <th>Color</th>\n",
       "      <th>Airbags</th>\n",
       "    </tr>\n",
       "  </thead>\n",
       "  <tbody>\n",
       "    <tr>\n",
       "      <th>0</th>\n",
       "      <td>45654403</td>\n",
       "      <td>13328</td>\n",
       "      <td>1399</td>\n",
       "      <td>LEXUS</td>\n",
       "      <td>RX 450</td>\n",
       "      <td>2010</td>\n",
       "      <td>Jeep</td>\n",
       "      <td>Yes</td>\n",
       "      <td>Hybrid</td>\n",
       "      <td>3.5</td>\n",
       "      <td>186005 km</td>\n",
       "      <td>6.0</td>\n",
       "      <td>Automatic</td>\n",
       "      <td>4x4</td>\n",
       "      <td>04-May</td>\n",
       "      <td>Left wheel</td>\n",
       "      <td>Silver</td>\n",
       "      <td>12</td>\n",
       "    </tr>\n",
       "    <tr>\n",
       "      <th>1</th>\n",
       "      <td>44731507</td>\n",
       "      <td>16621</td>\n",
       "      <td>1018</td>\n",
       "      <td>CHEVROLET</td>\n",
       "      <td>Equinox</td>\n",
       "      <td>2011</td>\n",
       "      <td>Jeep</td>\n",
       "      <td>No</td>\n",
       "      <td>Petrol</td>\n",
       "      <td>3</td>\n",
       "      <td>192000 km</td>\n",
       "      <td>6.0</td>\n",
       "      <td>Tiptronic</td>\n",
       "      <td>4x4</td>\n",
       "      <td>04-May</td>\n",
       "      <td>Left wheel</td>\n",
       "      <td>Black</td>\n",
       "      <td>8</td>\n",
       "    </tr>\n",
       "    <tr>\n",
       "      <th>2</th>\n",
       "      <td>45774419</td>\n",
       "      <td>8467</td>\n",
       "      <td>-</td>\n",
       "      <td>HONDA</td>\n",
       "      <td>FIT</td>\n",
       "      <td>2006</td>\n",
       "      <td>Hatchback</td>\n",
       "      <td>No</td>\n",
       "      <td>Petrol</td>\n",
       "      <td>1.3</td>\n",
       "      <td>200000 km</td>\n",
       "      <td>4.0</td>\n",
       "      <td>Variator</td>\n",
       "      <td>Front</td>\n",
       "      <td>04-May</td>\n",
       "      <td>Right-hand drive</td>\n",
       "      <td>Black</td>\n",
       "      <td>2</td>\n",
       "    </tr>\n",
       "    <tr>\n",
       "      <th>3</th>\n",
       "      <td>45769185</td>\n",
       "      <td>3607</td>\n",
       "      <td>862</td>\n",
       "      <td>FORD</td>\n",
       "      <td>Escape</td>\n",
       "      <td>2011</td>\n",
       "      <td>Jeep</td>\n",
       "      <td>Yes</td>\n",
       "      <td>Hybrid</td>\n",
       "      <td>2.5</td>\n",
       "      <td>168966 km</td>\n",
       "      <td>4.0</td>\n",
       "      <td>Automatic</td>\n",
       "      <td>4x4</td>\n",
       "      <td>04-May</td>\n",
       "      <td>Left wheel</td>\n",
       "      <td>White</td>\n",
       "      <td>0</td>\n",
       "    </tr>\n",
       "    <tr>\n",
       "      <th>4</th>\n",
       "      <td>45809263</td>\n",
       "      <td>11726</td>\n",
       "      <td>446</td>\n",
       "      <td>HONDA</td>\n",
       "      <td>FIT</td>\n",
       "      <td>2014</td>\n",
       "      <td>Hatchback</td>\n",
       "      <td>Yes</td>\n",
       "      <td>Petrol</td>\n",
       "      <td>1.3</td>\n",
       "      <td>91901 km</td>\n",
       "      <td>4.0</td>\n",
       "      <td>Automatic</td>\n",
       "      <td>Front</td>\n",
       "      <td>04-May</td>\n",
       "      <td>Left wheel</td>\n",
       "      <td>Silver</td>\n",
       "      <td>4</td>\n",
       "    </tr>\n",
       "  </tbody>\n",
       "</table>\n",
       "</div>"
      ],
      "text/plain": [
       "         ID  Price  Levy Manufacturer    Model  Prod. year   Category  \\\n",
       "0  45654403  13328  1399        LEXUS   RX 450        2010       Jeep   \n",
       "1  44731507  16621  1018    CHEVROLET  Equinox        2011       Jeep   \n",
       "2  45774419   8467     -        HONDA      FIT        2006  Hatchback   \n",
       "3  45769185   3607   862         FORD   Escape        2011       Jeep   \n",
       "4  45809263  11726   446        HONDA      FIT        2014  Hatchback   \n",
       "\n",
       "  Leather interior Fuel type Engine volume    Mileage  Cylinders  \\\n",
       "0              Yes    Hybrid           3.5  186005 km        6.0   \n",
       "1               No    Petrol             3  192000 km        6.0   \n",
       "2               No    Petrol           1.3  200000 km        4.0   \n",
       "3              Yes    Hybrid           2.5  168966 km        4.0   \n",
       "4              Yes    Petrol           1.3   91901 km        4.0   \n",
       "\n",
       "  Gear box type Drive wheels   Doors             Wheel   Color  Airbags  \n",
       "0     Automatic          4x4  04-May        Left wheel  Silver       12  \n",
       "1     Tiptronic          4x4  04-May        Left wheel   Black        8  \n",
       "2      Variator        Front  04-May  Right-hand drive   Black        2  \n",
       "3     Automatic          4x4  04-May        Left wheel   White        0  \n",
       "4     Automatic        Front  04-May        Left wheel  Silver        4  "
      ]
     },
     "execution_count": 507,
     "metadata": {},
     "output_type": "execute_result"
    }
   ],
   "source": [
    "df = pd.read_csv('/home/aaditya/system/vs/jupyter/dataset/car_dataset.csv')\n",
    "df.head()"
   ]
  },
  {
   "cell_type": "code",
   "execution_count": 508,
   "id": "04f634fd",
   "metadata": {},
   "outputs": [
    {
     "name": "stdout",
     "output_type": "stream",
     "text": [
      "<class 'pandas.core.frame.DataFrame'>\n",
      "RangeIndex: 19237 entries, 0 to 19236\n",
      "Data columns (total 18 columns):\n",
      " #   Column            Non-Null Count  Dtype  \n",
      "---  ------            --------------  -----  \n",
      " 0   ID                19237 non-null  int64  \n",
      " 1   Price             19237 non-null  int64  \n",
      " 2   Levy              19237 non-null  object \n",
      " 3   Manufacturer      19237 non-null  object \n",
      " 4   Model             19237 non-null  object \n",
      " 5   Prod. year        19237 non-null  int64  \n",
      " 6   Category          19237 non-null  object \n",
      " 7   Leather interior  19237 non-null  object \n",
      " 8   Fuel type         19237 non-null  object \n",
      " 9   Engine volume     19237 non-null  object \n",
      " 10  Mileage           19237 non-null  object \n",
      " 11  Cylinders         19237 non-null  float64\n",
      " 12  Gear box type     19237 non-null  object \n",
      " 13  Drive wheels      19237 non-null  object \n",
      " 14  Doors             19237 non-null  object \n",
      " 15  Wheel             19237 non-null  object \n",
      " 16  Color             19237 non-null  object \n",
      " 17  Airbags           19237 non-null  int64  \n",
      "dtypes: float64(1), int64(4), object(13)\n",
      "memory usage: 2.6+ MB\n"
     ]
    }
   ],
   "source": [
    "df.info()"
   ]
  },
  {
   "cell_type": "code",
   "execution_count": 509,
   "id": "6ec00131",
   "metadata": {},
   "outputs": [
    {
     "data": {
      "text/plain": [
       "65"
      ]
     },
     "execution_count": 509,
     "metadata": {},
     "output_type": "execute_result"
    }
   ],
   "source": [
    "len(df['Manufacturer'].unique())"
   ]
  },
  {
   "cell_type": "code",
   "execution_count": 510,
   "id": "a5b2d7d7",
   "metadata": {},
   "outputs": [
    {
     "data": {
      "text/plain": [
       "array(['LEXUS', 'CHEVROLET', 'HONDA', 'FORD', 'HYUNDAI', 'TOYOTA',\n",
       "       'MERCEDES-BENZ', 'OPEL', 'PORSCHE', 'BMW', 'JEEP', 'VOLKSWAGEN',\n",
       "       'AUDI', 'RENAULT', 'NISSAN', 'SUBARU', 'DAEWOO', 'KIA',\n",
       "       'MITSUBISHI', 'SSANGYONG', 'MAZDA', 'GMC', 'FIAT', 'INFINITI',\n",
       "       'ALFA ROMEO', 'SUZUKI', 'ACURA', 'LINCOLN', 'VAZ', 'GAZ',\n",
       "       'CITROEN', 'LAND ROVER', 'MINI', 'DODGE', 'CHRYSLER', 'JAGUAR',\n",
       "       'ISUZU', 'SKODA', 'DAIHATSU', 'BUICK', 'TESLA', 'CADILLAC',\n",
       "       'PEUGEOT', 'BENTLEY', 'VOLVO', 'სხვა', 'HAVAL', 'HUMMER', 'SCION',\n",
       "       'UAZ', 'MERCURY', 'ZAZ', 'ROVER', 'SEAT', 'LANCIA', 'MOSKVICH',\n",
       "       'MASERATI', 'FERRARI', 'SAAB', 'LAMBORGHINI', 'ROLLS-ROYCE',\n",
       "       'PONTIAC', 'SATURN', 'ASTON MARTIN', 'GREATWALL'], dtype=object)"
      ]
     },
     "execution_count": 510,
     "metadata": {},
     "output_type": "execute_result"
    }
   ],
   "source": [
    "df['Manufacturer'].unique()"
   ]
  },
  {
   "cell_type": "code",
   "execution_count": 511,
   "id": "eee025e7",
   "metadata": {},
   "outputs": [],
   "source": [
    "costly_brands = [\n",
    "    \"Audi\", \"BMW\", \"Mercedes-Benz\", \"Lexus\", \"Porsche\", \"Jaguar\", \"Land Rover\",\n",
    "    \"Tesla\", \"Volvo\", \"Alfa Romeo\", \"Aston Martin\", \"Bentley\", \"Ferrari\",\n",
    "    \"Lamborghini\", \"Maserati\", \"Rolls-Royce\"\n",
    "]\n",
    "\n",
    "moderate_brands = [\n",
    "    \"Toyota\", \"Honda\", \"Nissan\", \"Hyundai\", \"Kia\", \"Mazda\", \"Subaru\",\n",
    "    \"Volkswagen\", \"Ford\", \"Chevrolet\", \"GMC\", \"Dodge\", \"Chrysler\", \"Buick\",\n",
    "    \"Jeep\", \"Mitsubishi\"\n",
    "]\n",
    "\n",
    "low_brands = [\n",
    "    \"Fiat\", \"Mini\", \"Smart\", \"Acura\", \"Infiniti\", \"Genesis\", \"RAM\", \"Suzuki\"\n",
    "]\n"
   ]
  },
  {
   "cell_type": "code",
   "execution_count": 512,
   "id": "ec8d6f2d",
   "metadata": {},
   "outputs": [],
   "source": [
    "for i in range(len(costly_brands)):\n",
    "    costly_brands[i] = str.upper(costly_brands[i])\n",
    "\n",
    "for i in range(len(moderate_brands)):\n",
    "    moderate_brands[i] = str.upper(moderate_brands[i])\n",
    "\n",
    "for i in range(len(low_brands)):\n",
    "    low_brands[i] = str.upper(low_brands[i])"
   ]
  },
  {
   "cell_type": "code",
   "execution_count": 513,
   "id": "458a2be8",
   "metadata": {},
   "outputs": [
    {
     "data": {
      "text/plain": [
       "(['AUDI',\n",
       "  'BMW',\n",
       "  'MERCEDES-BENZ',\n",
       "  'LEXUS',\n",
       "  'PORSCHE',\n",
       "  'JAGUAR',\n",
       "  'LAND ROVER',\n",
       "  'TESLA',\n",
       "  'VOLVO',\n",
       "  'ALFA ROMEO',\n",
       "  'ASTON MARTIN',\n",
       "  'BENTLEY',\n",
       "  'FERRARI',\n",
       "  'LAMBORGHINI',\n",
       "  'MASERATI',\n",
       "  'ROLLS-ROYCE'],\n",
       " ['TOYOTA',\n",
       "  'HONDA',\n",
       "  'NISSAN',\n",
       "  'HYUNDAI',\n",
       "  'KIA',\n",
       "  'MAZDA',\n",
       "  'SUBARU',\n",
       "  'VOLKSWAGEN',\n",
       "  'FORD',\n",
       "  'CHEVROLET',\n",
       "  'GMC',\n",
       "  'DODGE',\n",
       "  'CHRYSLER',\n",
       "  'BUICK',\n",
       "  'JEEP',\n",
       "  'MITSUBISHI'],\n",
       " ['FIAT', 'MINI', 'SMART', 'ACURA', 'INFINITI', 'GENESIS', 'RAM', 'SUZUKI'])"
      ]
     },
     "execution_count": 513,
     "metadata": {},
     "output_type": "execute_result"
    }
   ],
   "source": [
    "costly_brands,moderate_brands,low_brands"
   ]
  },
  {
   "cell_type": "code",
   "execution_count": 514,
   "id": "7d315b50",
   "metadata": {},
   "outputs": [],
   "source": [
    "df['pricing_category'] = 0  # Initialize with default value (e.g., 'Low')\n",
    "\n",
    "# Assign values based on manufacturer category\n",
    "df.loc[df['Manufacturer'].isin(costly_brands), 'pricing_category'] = 2\n",
    "df.loc[df['Manufacturer'].isin(moderate_brands), 'pricing_category'] = 1"
   ]
  },
  {
   "cell_type": "code",
   "execution_count": 515,
   "id": "4865229c",
   "metadata": {},
   "outputs": [
    {
     "data": {
      "text/plain": [
       "0    2\n",
       "1    1\n",
       "2    1\n",
       "3    1\n",
       "4    1\n",
       "Name: pricing_category, dtype: int64"
      ]
     },
     "execution_count": 515,
     "metadata": {},
     "output_type": "execute_result"
    }
   ],
   "source": [
    "df['pricing_category'].head()"
   ]
  },
  {
   "cell_type": "code",
   "execution_count": 516,
   "id": "1ba897b1",
   "metadata": {},
   "outputs": [
    {
     "data": {
      "text/plain": [
       "0"
      ]
     },
     "execution_count": 516,
     "metadata": {},
     "output_type": "execute_result"
    }
   ],
   "source": [
    "df['pricing_category'].isnull().sum()"
   ]
  },
  {
   "cell_type": "code",
   "execution_count": 517,
   "id": "6482eb72",
   "metadata": {},
   "outputs": [
    {
     "data": {
      "text/plain": [
       "array([2, 1, 0])"
      ]
     },
     "execution_count": 517,
     "metadata": {},
     "output_type": "execute_result"
    }
   ],
   "source": [
    "df['pricing_category'].unique()"
   ]
  },
  {
   "cell_type": "code",
   "execution_count": 518,
   "id": "4f60e7da",
   "metadata": {},
   "outputs": [
    {
     "data": {
      "text/plain": [
       "array(['Hybrid', 'Petrol', 'Diesel', 'CNG', 'Plug-in Hybrid', 'LPG',\n",
       "       'Hydrogen'], dtype=object)"
      ]
     },
     "execution_count": 518,
     "metadata": {},
     "output_type": "execute_result"
    }
   ],
   "source": [
    "df['Fuel type'].unique()"
   ]
  },
  {
   "cell_type": "code",
   "execution_count": 519,
   "id": "912360c1",
   "metadata": {},
   "outputs": [],
   "source": [
    "from sklearn.preprocessing import LabelEncoder"
   ]
  },
  {
   "cell_type": "code",
   "execution_count": 520,
   "id": "fccbd6e4",
   "metadata": {},
   "outputs": [],
   "source": [
    "encoder=LabelEncoder()"
   ]
  },
  {
   "cell_type": "code",
   "execution_count": 521,
   "id": "b8fac311",
   "metadata": {},
   "outputs": [],
   "source": [
    "df['Fuel type'] = encoder.fit_transform(df['Fuel type'])"
   ]
  },
  {
   "cell_type": "code",
   "execution_count": 522,
   "id": "95304d61",
   "metadata": {},
   "outputs": [
    {
     "data": {
      "text/plain": [
       "array([2, 5, 1, 0, 6, 4, 3])"
      ]
     },
     "execution_count": 522,
     "metadata": {},
     "output_type": "execute_result"
    }
   ],
   "source": [
    "df['Fuel type'].unique()"
   ]
  },
  {
   "cell_type": "code",
   "execution_count": 523,
   "id": "8bae3ef1",
   "metadata": {},
   "outputs": [],
   "source": [
    "df['Leather interior'] = encoder.fit_transform(df['Leather interior'])"
   ]
  },
  {
   "cell_type": "code",
   "execution_count": 524,
   "id": "b14b75b4",
   "metadata": {},
   "outputs": [
    {
     "data": {
      "text/plain": [
       "array([1, 0])"
      ]
     },
     "execution_count": 524,
     "metadata": {},
     "output_type": "execute_result"
    }
   ],
   "source": [
    "df['Leather interior'].unique()"
   ]
  },
  {
   "cell_type": "code",
   "execution_count": 525,
   "id": "272fa58e",
   "metadata": {},
   "outputs": [],
   "source": [
    "df=df.drop(['Manufacturer','Levy'],axis=1)"
   ]
  },
  {
   "cell_type": "code",
   "execution_count": 526,
   "id": "e19eeb6e",
   "metadata": {},
   "outputs": [
    {
     "data": {
      "text/plain": [
       "array(['Jeep', 'Hatchback', 'Sedan', 'Microbus', 'Goods wagon',\n",
       "       'Universal', 'Coupe', 'Minivan', 'Cabriolet', 'Limousine',\n",
       "       'Pickup'], dtype=object)"
      ]
     },
     "execution_count": 526,
     "metadata": {},
     "output_type": "execute_result"
    }
   ],
   "source": [
    "df['Category'].unique()"
   ]
  },
  {
   "cell_type": "code",
   "execution_count": 527,
   "id": "bcbd46c7",
   "metadata": {},
   "outputs": [],
   "source": [
    "df['Category']=encoder.fit_transform(df['Category'])"
   ]
  },
  {
   "cell_type": "code",
   "execution_count": 528,
   "id": "02d48f21",
   "metadata": {},
   "outputs": [
    {
     "data": {
      "text/plain": [
       "array([ 4,  3,  9,  6,  2, 10,  1,  7,  0,  5,  8])"
      ]
     },
     "execution_count": 528,
     "metadata": {},
     "output_type": "execute_result"
    }
   ],
   "source": [
    "df['Category'].unique()"
   ]
  },
  {
   "cell_type": "code",
   "execution_count": 529,
   "id": "489eebf6",
   "metadata": {},
   "outputs": [
    {
     "data": {
      "text/plain": [
       "array(['Automatic', 'Tiptronic', 'Variator', 'Manual'], dtype=object)"
      ]
     },
     "execution_count": 529,
     "metadata": {},
     "output_type": "execute_result"
    }
   ],
   "source": [
    "df['Gear box type'].unique()"
   ]
  },
  {
   "cell_type": "code",
   "execution_count": 530,
   "id": "1cb18782",
   "metadata": {},
   "outputs": [],
   "source": [
    "df['Gear box type'] = encoder.fit_transform(df['Gear box type'])"
   ]
  },
  {
   "cell_type": "code",
   "execution_count": 531,
   "id": "999d6315",
   "metadata": {},
   "outputs": [
    {
     "data": {
      "text/plain": [
       "array([0, 2, 3, 1])"
      ]
     },
     "execution_count": 531,
     "metadata": {},
     "output_type": "execute_result"
    }
   ],
   "source": [
    "df['Gear box type'].unique()"
   ]
  },
  {
   "cell_type": "code",
   "execution_count": 532,
   "id": "0afe4063",
   "metadata": {},
   "outputs": [
    {
     "name": "stdout",
     "output_type": "stream",
     "text": [
      "<class 'pandas.core.frame.DataFrame'>\n",
      "RangeIndex: 19237 entries, 0 to 19236\n",
      "Data columns (total 17 columns):\n",
      " #   Column            Non-Null Count  Dtype  \n",
      "---  ------            --------------  -----  \n",
      " 0   ID                19237 non-null  int64  \n",
      " 1   Price             19237 non-null  int64  \n",
      " 2   Model             19237 non-null  object \n",
      " 3   Prod. year        19237 non-null  int64  \n",
      " 4   Category          19237 non-null  int64  \n",
      " 5   Leather interior  19237 non-null  int64  \n",
      " 6   Fuel type         19237 non-null  int64  \n",
      " 7   Engine volume     19237 non-null  object \n",
      " 8   Mileage           19237 non-null  object \n",
      " 9   Cylinders         19237 non-null  float64\n",
      " 10  Gear box type     19237 non-null  int64  \n",
      " 11  Drive wheels      19237 non-null  object \n",
      " 12  Doors             19237 non-null  object \n",
      " 13  Wheel             19237 non-null  object \n",
      " 14  Color             19237 non-null  object \n",
      " 15  Airbags           19237 non-null  int64  \n",
      " 16  pricing_category  19237 non-null  int64  \n",
      "dtypes: float64(1), int64(9), object(7)\n",
      "memory usage: 2.5+ MB\n"
     ]
    }
   ],
   "source": [
    "df.info()"
   ]
  },
  {
   "cell_type": "code",
   "execution_count": 533,
   "id": "65d33dbe",
   "metadata": {},
   "outputs": [
    {
     "data": {
      "text/html": [
       "<div>\n",
       "<style scoped>\n",
       "    .dataframe tbody tr th:only-of-type {\n",
       "        vertical-align: middle;\n",
       "    }\n",
       "\n",
       "    .dataframe tbody tr th {\n",
       "        vertical-align: top;\n",
       "    }\n",
       "\n",
       "    .dataframe thead th {\n",
       "        text-align: right;\n",
       "    }\n",
       "</style>\n",
       "<table border=\"1\" class=\"dataframe\">\n",
       "  <thead>\n",
       "    <tr style=\"text-align: right;\">\n",
       "      <th></th>\n",
       "      <th>ID</th>\n",
       "      <th>Price</th>\n",
       "      <th>Model</th>\n",
       "      <th>Prod. year</th>\n",
       "      <th>Category</th>\n",
       "      <th>Leather interior</th>\n",
       "      <th>Fuel type</th>\n",
       "      <th>Engine volume</th>\n",
       "      <th>Mileage</th>\n",
       "      <th>Cylinders</th>\n",
       "      <th>Gear box type</th>\n",
       "      <th>Drive wheels</th>\n",
       "      <th>Doors</th>\n",
       "      <th>Wheel</th>\n",
       "      <th>Color</th>\n",
       "      <th>Airbags</th>\n",
       "      <th>pricing_category</th>\n",
       "    </tr>\n",
       "  </thead>\n",
       "  <tbody>\n",
       "    <tr>\n",
       "      <th>0</th>\n",
       "      <td>45654403</td>\n",
       "      <td>13328</td>\n",
       "      <td>RX 450</td>\n",
       "      <td>2010</td>\n",
       "      <td>4</td>\n",
       "      <td>1</td>\n",
       "      <td>2</td>\n",
       "      <td>3.5</td>\n",
       "      <td>186005 km</td>\n",
       "      <td>6.0</td>\n",
       "      <td>0</td>\n",
       "      <td>4x4</td>\n",
       "      <td>04-May</td>\n",
       "      <td>Left wheel</td>\n",
       "      <td>Silver</td>\n",
       "      <td>12</td>\n",
       "      <td>2</td>\n",
       "    </tr>\n",
       "    <tr>\n",
       "      <th>1</th>\n",
       "      <td>44731507</td>\n",
       "      <td>16621</td>\n",
       "      <td>Equinox</td>\n",
       "      <td>2011</td>\n",
       "      <td>4</td>\n",
       "      <td>0</td>\n",
       "      <td>5</td>\n",
       "      <td>3</td>\n",
       "      <td>192000 km</td>\n",
       "      <td>6.0</td>\n",
       "      <td>2</td>\n",
       "      <td>4x4</td>\n",
       "      <td>04-May</td>\n",
       "      <td>Left wheel</td>\n",
       "      <td>Black</td>\n",
       "      <td>8</td>\n",
       "      <td>1</td>\n",
       "    </tr>\n",
       "    <tr>\n",
       "      <th>2</th>\n",
       "      <td>45774419</td>\n",
       "      <td>8467</td>\n",
       "      <td>FIT</td>\n",
       "      <td>2006</td>\n",
       "      <td>3</td>\n",
       "      <td>0</td>\n",
       "      <td>5</td>\n",
       "      <td>1.3</td>\n",
       "      <td>200000 km</td>\n",
       "      <td>4.0</td>\n",
       "      <td>3</td>\n",
       "      <td>Front</td>\n",
       "      <td>04-May</td>\n",
       "      <td>Right-hand drive</td>\n",
       "      <td>Black</td>\n",
       "      <td>2</td>\n",
       "      <td>1</td>\n",
       "    </tr>\n",
       "    <tr>\n",
       "      <th>3</th>\n",
       "      <td>45769185</td>\n",
       "      <td>3607</td>\n",
       "      <td>Escape</td>\n",
       "      <td>2011</td>\n",
       "      <td>4</td>\n",
       "      <td>1</td>\n",
       "      <td>2</td>\n",
       "      <td>2.5</td>\n",
       "      <td>168966 km</td>\n",
       "      <td>4.0</td>\n",
       "      <td>0</td>\n",
       "      <td>4x4</td>\n",
       "      <td>04-May</td>\n",
       "      <td>Left wheel</td>\n",
       "      <td>White</td>\n",
       "      <td>0</td>\n",
       "      <td>1</td>\n",
       "    </tr>\n",
       "    <tr>\n",
       "      <th>4</th>\n",
       "      <td>45809263</td>\n",
       "      <td>11726</td>\n",
       "      <td>FIT</td>\n",
       "      <td>2014</td>\n",
       "      <td>3</td>\n",
       "      <td>1</td>\n",
       "      <td>5</td>\n",
       "      <td>1.3</td>\n",
       "      <td>91901 km</td>\n",
       "      <td>4.0</td>\n",
       "      <td>0</td>\n",
       "      <td>Front</td>\n",
       "      <td>04-May</td>\n",
       "      <td>Left wheel</td>\n",
       "      <td>Silver</td>\n",
       "      <td>4</td>\n",
       "      <td>1</td>\n",
       "    </tr>\n",
       "  </tbody>\n",
       "</table>\n",
       "</div>"
      ],
      "text/plain": [
       "         ID  Price    Model  Prod. year  Category  Leather interior  \\\n",
       "0  45654403  13328   RX 450        2010         4                 1   \n",
       "1  44731507  16621  Equinox        2011         4                 0   \n",
       "2  45774419   8467      FIT        2006         3                 0   \n",
       "3  45769185   3607   Escape        2011         4                 1   \n",
       "4  45809263  11726      FIT        2014         3                 1   \n",
       "\n",
       "   Fuel type Engine volume    Mileage  Cylinders  Gear box type Drive wheels  \\\n",
       "0          2           3.5  186005 km        6.0              0          4x4   \n",
       "1          5             3  192000 km        6.0              2          4x4   \n",
       "2          5           1.3  200000 km        4.0              3        Front   \n",
       "3          2           2.5  168966 km        4.0              0          4x4   \n",
       "4          5           1.3   91901 km        4.0              0        Front   \n",
       "\n",
       "    Doors             Wheel   Color  Airbags  pricing_category  \n",
       "0  04-May        Left wheel  Silver       12                 2  \n",
       "1  04-May        Left wheel   Black        8                 1  \n",
       "2  04-May  Right-hand drive   Black        2                 1  \n",
       "3  04-May        Left wheel   White        0                 1  \n",
       "4  04-May        Left wheel  Silver        4                 1  "
      ]
     },
     "execution_count": 533,
     "metadata": {},
     "output_type": "execute_result"
    }
   ],
   "source": [
    "df.head()"
   ]
  },
  {
   "cell_type": "code",
   "execution_count": null,
   "id": "bfde73fa",
   "metadata": {},
   "outputs": [],
   "source": []
  },
  {
   "cell_type": "code",
   "execution_count": 534,
   "id": "de6a7bbd",
   "metadata": {},
   "outputs": [],
   "source": [
    "df=df.drop(['Model','Color','Doors','Wheel'],axis=1)"
   ]
  },
  {
   "cell_type": "code",
   "execution_count": 535,
   "id": "91fd3d4b",
   "metadata": {},
   "outputs": [
    {
     "data": {
      "text/plain": [
       "(19237, 13)"
      ]
     },
     "execution_count": 535,
     "metadata": {},
     "output_type": "execute_result"
    }
   ],
   "source": [
    "df.shape"
   ]
  },
  {
   "cell_type": "code",
   "execution_count": 536,
   "id": "39be303f",
   "metadata": {},
   "outputs": [
    {
     "data": {
      "text/html": [
       "<div>\n",
       "<style scoped>\n",
       "    .dataframe tbody tr th:only-of-type {\n",
       "        vertical-align: middle;\n",
       "    }\n",
       "\n",
       "    .dataframe tbody tr th {\n",
       "        vertical-align: top;\n",
       "    }\n",
       "\n",
       "    .dataframe thead th {\n",
       "        text-align: right;\n",
       "    }\n",
       "</style>\n",
       "<table border=\"1\" class=\"dataframe\">\n",
       "  <thead>\n",
       "    <tr style=\"text-align: right;\">\n",
       "      <th></th>\n",
       "      <th>ID</th>\n",
       "      <th>Price</th>\n",
       "      <th>Prod. year</th>\n",
       "      <th>Category</th>\n",
       "      <th>Leather interior</th>\n",
       "      <th>Fuel type</th>\n",
       "      <th>Engine volume</th>\n",
       "      <th>Mileage</th>\n",
       "      <th>Cylinders</th>\n",
       "      <th>Gear box type</th>\n",
       "      <th>Drive wheels</th>\n",
       "      <th>Airbags</th>\n",
       "      <th>pricing_category</th>\n",
       "    </tr>\n",
       "  </thead>\n",
       "  <tbody>\n",
       "    <tr>\n",
       "      <th>0</th>\n",
       "      <td>45654403</td>\n",
       "      <td>13328</td>\n",
       "      <td>2010</td>\n",
       "      <td>4</td>\n",
       "      <td>1</td>\n",
       "      <td>2</td>\n",
       "      <td>3.5</td>\n",
       "      <td>186005 km</td>\n",
       "      <td>6.0</td>\n",
       "      <td>0</td>\n",
       "      <td>4x4</td>\n",
       "      <td>12</td>\n",
       "      <td>2</td>\n",
       "    </tr>\n",
       "    <tr>\n",
       "      <th>1</th>\n",
       "      <td>44731507</td>\n",
       "      <td>16621</td>\n",
       "      <td>2011</td>\n",
       "      <td>4</td>\n",
       "      <td>0</td>\n",
       "      <td>5</td>\n",
       "      <td>3</td>\n",
       "      <td>192000 km</td>\n",
       "      <td>6.0</td>\n",
       "      <td>2</td>\n",
       "      <td>4x4</td>\n",
       "      <td>8</td>\n",
       "      <td>1</td>\n",
       "    </tr>\n",
       "    <tr>\n",
       "      <th>2</th>\n",
       "      <td>45774419</td>\n",
       "      <td>8467</td>\n",
       "      <td>2006</td>\n",
       "      <td>3</td>\n",
       "      <td>0</td>\n",
       "      <td>5</td>\n",
       "      <td>1.3</td>\n",
       "      <td>200000 km</td>\n",
       "      <td>4.0</td>\n",
       "      <td>3</td>\n",
       "      <td>Front</td>\n",
       "      <td>2</td>\n",
       "      <td>1</td>\n",
       "    </tr>\n",
       "    <tr>\n",
       "      <th>3</th>\n",
       "      <td>45769185</td>\n",
       "      <td>3607</td>\n",
       "      <td>2011</td>\n",
       "      <td>4</td>\n",
       "      <td>1</td>\n",
       "      <td>2</td>\n",
       "      <td>2.5</td>\n",
       "      <td>168966 km</td>\n",
       "      <td>4.0</td>\n",
       "      <td>0</td>\n",
       "      <td>4x4</td>\n",
       "      <td>0</td>\n",
       "      <td>1</td>\n",
       "    </tr>\n",
       "    <tr>\n",
       "      <th>4</th>\n",
       "      <td>45809263</td>\n",
       "      <td>11726</td>\n",
       "      <td>2014</td>\n",
       "      <td>3</td>\n",
       "      <td>1</td>\n",
       "      <td>5</td>\n",
       "      <td>1.3</td>\n",
       "      <td>91901 km</td>\n",
       "      <td>4.0</td>\n",
       "      <td>0</td>\n",
       "      <td>Front</td>\n",
       "      <td>4</td>\n",
       "      <td>1</td>\n",
       "    </tr>\n",
       "  </tbody>\n",
       "</table>\n",
       "</div>"
      ],
      "text/plain": [
       "         ID  Price  Prod. year  Category  Leather interior  Fuel type  \\\n",
       "0  45654403  13328        2010         4                 1          2   \n",
       "1  44731507  16621        2011         4                 0          5   \n",
       "2  45774419   8467        2006         3                 0          5   \n",
       "3  45769185   3607        2011         4                 1          2   \n",
       "4  45809263  11726        2014         3                 1          5   \n",
       "\n",
       "  Engine volume    Mileage  Cylinders  Gear box type Drive wheels  Airbags  \\\n",
       "0           3.5  186005 km        6.0              0          4x4       12   \n",
       "1             3  192000 km        6.0              2          4x4        8   \n",
       "2           1.3  200000 km        4.0              3        Front        2   \n",
       "3           2.5  168966 km        4.0              0          4x4        0   \n",
       "4           1.3   91901 km        4.0              0        Front        4   \n",
       "\n",
       "   pricing_category  \n",
       "0                 2  \n",
       "1                 1  \n",
       "2                 1  \n",
       "3                 1  \n",
       "4                 1  "
      ]
     },
     "execution_count": 536,
     "metadata": {},
     "output_type": "execute_result"
    }
   ],
   "source": [
    "df.head()"
   ]
  },
  {
   "cell_type": "code",
   "execution_count": 537,
   "id": "e5bfe542",
   "metadata": {
    "slideshow": {
     "slide_type": "slide"
    }
   },
   "outputs": [],
   "source": [
    "for i in range(len(df['Mileage'])):\n",
    "    df.loc[i,'new Mileage'] = int(str.split(df.loc[i,'Mileage'])[0])"
   ]
  },
  {
   "cell_type": "code",
   "execution_count": 538,
   "id": "59f43051",
   "metadata": {},
   "outputs": [
    {
     "data": {
      "text/plain": [
       "0        186005.0\n",
       "1        192000.0\n",
       "2        200000.0\n",
       "3        168966.0\n",
       "4         91901.0\n",
       "           ...   \n",
       "19232    300000.0\n",
       "19233    161600.0\n",
       "19234    116365.0\n",
       "19235     51258.0\n",
       "19236    186923.0\n",
       "Name: new Mileage, Length: 19237, dtype: float64"
      ]
     },
     "execution_count": 538,
     "metadata": {},
     "output_type": "execute_result"
    }
   ],
   "source": [
    "df['new Mileage']"
   ]
  },
  {
   "cell_type": "code",
   "execution_count": 539,
   "id": "06813e93",
   "metadata": {},
   "outputs": [
    {
     "data": {
      "text/plain": [
       "0"
      ]
     },
     "execution_count": 539,
     "metadata": {},
     "output_type": "execute_result"
    }
   ],
   "source": [
    "df['new Mileage'].isnull().sum()"
   ]
  },
  {
   "cell_type": "code",
   "execution_count": 540,
   "id": "0b66c19f",
   "metadata": {},
   "outputs": [
    {
     "data": {
      "text/plain": [
       "numpy.float64"
      ]
     },
     "execution_count": 540,
     "metadata": {},
     "output_type": "execute_result"
    }
   ],
   "source": [
    "type(df['new Mileage'][0])"
   ]
  },
  {
   "cell_type": "code",
   "execution_count": 541,
   "id": "5da25254",
   "metadata": {},
   "outputs": [],
   "source": [
    "df['new Mileage'] = df['new Mileage']/100000"
   ]
  },
  {
   "cell_type": "code",
   "execution_count": 542,
   "id": "e9e3e1ef",
   "metadata": {},
   "outputs": [],
   "source": [
    "df=df.drop('Mileage',axis=1)"
   ]
  },
  {
   "cell_type": "code",
   "execution_count": 543,
   "id": "b39fcfcf",
   "metadata": {},
   "outputs": [
    {
     "data": {
      "text/plain": [
       "0        1.86005\n",
       "1        1.92000\n",
       "2        2.00000\n",
       "3        1.68966\n",
       "4        0.91901\n",
       "          ...   \n",
       "19232    3.00000\n",
       "19233    1.61600\n",
       "19234    1.16365\n",
       "19235    0.51258\n",
       "19236    1.86923\n",
       "Name: new Mileage, Length: 19237, dtype: float64"
      ]
     },
     "execution_count": 543,
     "metadata": {},
     "output_type": "execute_result"
    }
   ],
   "source": [
    "df['new Mileage']"
   ]
  },
  {
   "cell_type": "code",
   "execution_count": 544,
   "id": "8f8c645c",
   "metadata": {},
   "outputs": [
    {
     "data": {
      "text/plain": [
       "array(['3.5', '3', '1.3', '2.5', '2', '1.8', '2.4', '4', '1.6', '3.3',\n",
       "       '2.0 Turbo', '2.2 Turbo', '4.7', '1.5', '4.4', '3.0 Turbo',\n",
       "       '1.4 Turbo', '3.6', '2.3', '1.5 Turbo', '1.6 Turbo', '2.2',\n",
       "       '2.3 Turbo', '1.4', '5.5', '2.8 Turbo', '3.2', '3.8', '4.6', '1.2',\n",
       "       '5', '1.7', '2.9', '0.5', '1.8 Turbo', '2.4 Turbo', '3.5 Turbo',\n",
       "       '1.9', '2.7', '4.8', '5.3', '0.4', '2.8', '3.2 Turbo', '1.1',\n",
       "       '2.1', '0.7', '5.4', '1.3 Turbo', '3.7', '1', '2.5 Turbo', '2.6',\n",
       "       '1.9 Turbo', '4.4 Turbo', '4.7 Turbo', '0.8', '0.2 Turbo', '5.7',\n",
       "       '4.8 Turbo', '4.6 Turbo', '6.7', '6.2', '1.2 Turbo', '3.4',\n",
       "       '1.7 Turbo', '6.3 Turbo', '2.7 Turbo', '4.3', '4.2', '2.9 Turbo',\n",
       "       '0', '4.0 Turbo', '20', '3.6 Turbo', '0.3', '3.7 Turbo', '5.9',\n",
       "       '5.5 Turbo', '0.2', '2.1 Turbo', '5.6', '6', '0.7 Turbo',\n",
       "       '0.6 Turbo', '6.8', '4.5', '0.6', '7.3', '0.1', '1.0 Turbo', '6.3',\n",
       "       '4.5 Turbo', '0.8 Turbo', '4.2 Turbo', '3.1', '5.0 Turbo', '6.4',\n",
       "       '3.9', '5.7 Turbo', '0.9', '0.4 Turbo', '5.4 Turbo', '0.3 Turbo',\n",
       "       '5.2', '5.8', '1.1 Turbo'], dtype=object)"
      ]
     },
     "execution_count": 544,
     "metadata": {},
     "output_type": "execute_result"
    }
   ],
   "source": [
    "df['Engine volume'].unique()"
   ]
  },
  {
   "cell_type": "code",
   "execution_count": 545,
   "id": "47184aed",
   "metadata": {},
   "outputs": [
    {
     "data": {
      "text/plain": [
       "'3.5'"
      ]
     },
     "execution_count": 545,
     "metadata": {},
     "output_type": "execute_result"
    }
   ],
   "source": [
    "df['Engine volume'][0]"
   ]
  },
  {
   "cell_type": "code",
   "execution_count": 546,
   "id": "1db0c35b",
   "metadata": {},
   "outputs": [
    {
     "data": {
      "text/plain": [
       "1"
      ]
     },
     "execution_count": 546,
     "metadata": {},
     "output_type": "execute_result"
    }
   ],
   "source": [
    "l=str.split(df.loc[0,'Engine volume'])\n",
    "len(l)"
   ]
  },
  {
   "cell_type": "code",
   "execution_count": 547,
   "id": "b559ce20",
   "metadata": {},
   "outputs": [],
   "source": [
    "df['Engine Turbo'] = 0"
   ]
  },
  {
   "cell_type": "code",
   "execution_count": 548,
   "id": "33ae1203",
   "metadata": {},
   "outputs": [],
   "source": [
    "for i in range(len(df['Engine volume'])):\n",
    "    l=str.split(df.loc[i,'Engine volume'])\n",
    "    df.loc[i,'Engine volume'] = l[0]\n",
    "    if len(l)>1 and l[1] == 'Turbo':\n",
    "        df.loc[i,'Engine Turbo']=1\n",
    "    "
   ]
  },
  {
   "cell_type": "code",
   "execution_count": 549,
   "id": "282fb7fb",
   "metadata": {},
   "outputs": [
    {
     "data": {
      "text/plain": [
       "0        3.5\n",
       "1          3\n",
       "2        1.3\n",
       "3        2.5\n",
       "4        1.3\n",
       "        ... \n",
       "19232    2.0\n",
       "19233    2.4\n",
       "19234      2\n",
       "19235      2\n",
       "19236    2.4\n",
       "Name: Engine volume, Length: 19237, dtype: object"
      ]
     },
     "execution_count": 549,
     "metadata": {},
     "output_type": "execute_result"
    }
   ],
   "source": [
    "df['Engine volume']"
   ]
  },
  {
   "cell_type": "code",
   "execution_count": 557,
   "id": "a477576c",
   "metadata": {},
   "outputs": [],
   "source": [
    "df['Engine volume']=df['Engine volume'].astype('float')"
   ]
  },
  {
   "cell_type": "code",
   "execution_count": 559,
   "id": "720b275e",
   "metadata": {},
   "outputs": [
    {
     "data": {
      "text/html": [
       "<div>\n",
       "<style scoped>\n",
       "    .dataframe tbody tr th:only-of-type {\n",
       "        vertical-align: middle;\n",
       "    }\n",
       "\n",
       "    .dataframe tbody tr th {\n",
       "        vertical-align: top;\n",
       "    }\n",
       "\n",
       "    .dataframe thead th {\n",
       "        text-align: right;\n",
       "    }\n",
       "</style>\n",
       "<table border=\"1\" class=\"dataframe\">\n",
       "  <thead>\n",
       "    <tr style=\"text-align: right;\">\n",
       "      <th></th>\n",
       "      <th>ID</th>\n",
       "      <th>Price</th>\n",
       "      <th>Prod. year</th>\n",
       "      <th>Category</th>\n",
       "      <th>Leather interior</th>\n",
       "      <th>Fuel type</th>\n",
       "      <th>Engine volume</th>\n",
       "      <th>Cylinders</th>\n",
       "      <th>Gear box type</th>\n",
       "      <th>Drive wheels</th>\n",
       "      <th>Airbags</th>\n",
       "      <th>pricing_category</th>\n",
       "      <th>new Mileage</th>\n",
       "      <th>Engine Turbo</th>\n",
       "    </tr>\n",
       "  </thead>\n",
       "  <tbody>\n",
       "    <tr>\n",
       "      <th>19232</th>\n",
       "      <td>45798355</td>\n",
       "      <td>8467</td>\n",
       "      <td>1999</td>\n",
       "      <td>1</td>\n",
       "      <td>1</td>\n",
       "      <td>0</td>\n",
       "      <td>2.0</td>\n",
       "      <td>4.0</td>\n",
       "      <td>1</td>\n",
       "      <td>Rear</td>\n",
       "      <td>5</td>\n",
       "      <td>2</td>\n",
       "      <td>3.00000</td>\n",
       "      <td>1</td>\n",
       "    </tr>\n",
       "    <tr>\n",
       "      <th>19233</th>\n",
       "      <td>45778856</td>\n",
       "      <td>15681</td>\n",
       "      <td>2011</td>\n",
       "      <td>9</td>\n",
       "      <td>1</td>\n",
       "      <td>5</td>\n",
       "      <td>2.4</td>\n",
       "      <td>4.0</td>\n",
       "      <td>2</td>\n",
       "      <td>Front</td>\n",
       "      <td>8</td>\n",
       "      <td>1</td>\n",
       "      <td>1.61600</td>\n",
       "      <td>0</td>\n",
       "    </tr>\n",
       "    <tr>\n",
       "      <th>19234</th>\n",
       "      <td>45804997</td>\n",
       "      <td>26108</td>\n",
       "      <td>2010</td>\n",
       "      <td>4</td>\n",
       "      <td>1</td>\n",
       "      <td>1</td>\n",
       "      <td>2.0</td>\n",
       "      <td>4.0</td>\n",
       "      <td>0</td>\n",
       "      <td>Front</td>\n",
       "      <td>4</td>\n",
       "      <td>1</td>\n",
       "      <td>1.16365</td>\n",
       "      <td>0</td>\n",
       "    </tr>\n",
       "    <tr>\n",
       "      <th>19235</th>\n",
       "      <td>45793526</td>\n",
       "      <td>5331</td>\n",
       "      <td>2007</td>\n",
       "      <td>4</td>\n",
       "      <td>1</td>\n",
       "      <td>1</td>\n",
       "      <td>2.0</td>\n",
       "      <td>4.0</td>\n",
       "      <td>0</td>\n",
       "      <td>Front</td>\n",
       "      <td>4</td>\n",
       "      <td>1</td>\n",
       "      <td>0.51258</td>\n",
       "      <td>0</td>\n",
       "    </tr>\n",
       "    <tr>\n",
       "      <th>19236</th>\n",
       "      <td>45813273</td>\n",
       "      <td>470</td>\n",
       "      <td>2012</td>\n",
       "      <td>9</td>\n",
       "      <td>1</td>\n",
       "      <td>2</td>\n",
       "      <td>2.4</td>\n",
       "      <td>4.0</td>\n",
       "      <td>0</td>\n",
       "      <td>Front</td>\n",
       "      <td>12</td>\n",
       "      <td>1</td>\n",
       "      <td>1.86923</td>\n",
       "      <td>0</td>\n",
       "    </tr>\n",
       "  </tbody>\n",
       "</table>\n",
       "</div>"
      ],
      "text/plain": [
       "             ID  Price  Prod. year  Category  Leather interior  Fuel type  \\\n",
       "19232  45798355   8467        1999         1                 1          0   \n",
       "19233  45778856  15681        2011         9                 1          5   \n",
       "19234  45804997  26108        2010         4                 1          1   \n",
       "19235  45793526   5331        2007         4                 1          1   \n",
       "19236  45813273    470        2012         9                 1          2   \n",
       "\n",
       "       Engine volume  Cylinders  Gear box type Drive wheels  Airbags  \\\n",
       "19232            2.0        4.0              1         Rear        5   \n",
       "19233            2.4        4.0              2        Front        8   \n",
       "19234            2.0        4.0              0        Front        4   \n",
       "19235            2.0        4.0              0        Front        4   \n",
       "19236            2.4        4.0              0        Front       12   \n",
       "\n",
       "       pricing_category  new Mileage  Engine Turbo  \n",
       "19232                 2      3.00000             1  \n",
       "19233                 1      1.61600             0  \n",
       "19234                 1      1.16365             0  \n",
       "19235                 1      0.51258             0  \n",
       "19236                 1      1.86923             0  "
      ]
     },
     "execution_count": 559,
     "metadata": {},
     "output_type": "execute_result"
    }
   ],
   "source": [
    "df.tail()"
   ]
  },
  {
   "cell_type": "code",
   "execution_count": 561,
   "id": "3de4387d",
   "metadata": {},
   "outputs": [
    {
     "data": {
      "text/plain": [
       "array(['4x4', 'Front', 'Rear'], dtype=object)"
      ]
     },
     "execution_count": 561,
     "metadata": {},
     "output_type": "execute_result"
    }
   ],
   "source": [
    "df['Drive wheels'].unique()"
   ]
  },
  {
   "cell_type": "code",
   "execution_count": 562,
   "id": "e2eaaa8f",
   "metadata": {},
   "outputs": [],
   "source": [
    "df['Drive wheels']=encoder.fit_transform(df['Drive wheels'])"
   ]
  },
  {
   "cell_type": "code",
   "execution_count": 563,
   "id": "48e23e39",
   "metadata": {},
   "outputs": [
    {
     "data": {
      "text/plain": [
       "array([0, 1, 2])"
      ]
     },
     "execution_count": 563,
     "metadata": {},
     "output_type": "execute_result"
    }
   ],
   "source": [
    "df['Drive wheels'].unique()"
   ]
  },
  {
   "cell_type": "code",
   "execution_count": 564,
   "id": "87a77b0e",
   "metadata": {},
   "outputs": [
    {
     "data": {
      "text/html": [
       "<div>\n",
       "<style scoped>\n",
       "    .dataframe tbody tr th:only-of-type {\n",
       "        vertical-align: middle;\n",
       "    }\n",
       "\n",
       "    .dataframe tbody tr th {\n",
       "        vertical-align: top;\n",
       "    }\n",
       "\n",
       "    .dataframe thead th {\n",
       "        text-align: right;\n",
       "    }\n",
       "</style>\n",
       "<table border=\"1\" class=\"dataframe\">\n",
       "  <thead>\n",
       "    <tr style=\"text-align: right;\">\n",
       "      <th></th>\n",
       "      <th>ID</th>\n",
       "      <th>Price</th>\n",
       "      <th>Prod. year</th>\n",
       "      <th>Category</th>\n",
       "      <th>Leather interior</th>\n",
       "      <th>Fuel type</th>\n",
       "      <th>Engine volume</th>\n",
       "      <th>Cylinders</th>\n",
       "      <th>Gear box type</th>\n",
       "      <th>Drive wheels</th>\n",
       "      <th>Airbags</th>\n",
       "      <th>pricing_category</th>\n",
       "      <th>new Mileage</th>\n",
       "      <th>Engine Turbo</th>\n",
       "    </tr>\n",
       "  </thead>\n",
       "  <tbody>\n",
       "    <tr>\n",
       "      <th>19232</th>\n",
       "      <td>45798355</td>\n",
       "      <td>8467</td>\n",
       "      <td>1999</td>\n",
       "      <td>1</td>\n",
       "      <td>1</td>\n",
       "      <td>0</td>\n",
       "      <td>2.0</td>\n",
       "      <td>4.0</td>\n",
       "      <td>1</td>\n",
       "      <td>2</td>\n",
       "      <td>5</td>\n",
       "      <td>2</td>\n",
       "      <td>3.00000</td>\n",
       "      <td>1</td>\n",
       "    </tr>\n",
       "    <tr>\n",
       "      <th>19233</th>\n",
       "      <td>45778856</td>\n",
       "      <td>15681</td>\n",
       "      <td>2011</td>\n",
       "      <td>9</td>\n",
       "      <td>1</td>\n",
       "      <td>5</td>\n",
       "      <td>2.4</td>\n",
       "      <td>4.0</td>\n",
       "      <td>2</td>\n",
       "      <td>1</td>\n",
       "      <td>8</td>\n",
       "      <td>1</td>\n",
       "      <td>1.61600</td>\n",
       "      <td>0</td>\n",
       "    </tr>\n",
       "    <tr>\n",
       "      <th>19234</th>\n",
       "      <td>45804997</td>\n",
       "      <td>26108</td>\n",
       "      <td>2010</td>\n",
       "      <td>4</td>\n",
       "      <td>1</td>\n",
       "      <td>1</td>\n",
       "      <td>2.0</td>\n",
       "      <td>4.0</td>\n",
       "      <td>0</td>\n",
       "      <td>1</td>\n",
       "      <td>4</td>\n",
       "      <td>1</td>\n",
       "      <td>1.16365</td>\n",
       "      <td>0</td>\n",
       "    </tr>\n",
       "    <tr>\n",
       "      <th>19235</th>\n",
       "      <td>45793526</td>\n",
       "      <td>5331</td>\n",
       "      <td>2007</td>\n",
       "      <td>4</td>\n",
       "      <td>1</td>\n",
       "      <td>1</td>\n",
       "      <td>2.0</td>\n",
       "      <td>4.0</td>\n",
       "      <td>0</td>\n",
       "      <td>1</td>\n",
       "      <td>4</td>\n",
       "      <td>1</td>\n",
       "      <td>0.51258</td>\n",
       "      <td>0</td>\n",
       "    </tr>\n",
       "    <tr>\n",
       "      <th>19236</th>\n",
       "      <td>45813273</td>\n",
       "      <td>470</td>\n",
       "      <td>2012</td>\n",
       "      <td>9</td>\n",
       "      <td>1</td>\n",
       "      <td>2</td>\n",
       "      <td>2.4</td>\n",
       "      <td>4.0</td>\n",
       "      <td>0</td>\n",
       "      <td>1</td>\n",
       "      <td>12</td>\n",
       "      <td>1</td>\n",
       "      <td>1.86923</td>\n",
       "      <td>0</td>\n",
       "    </tr>\n",
       "  </tbody>\n",
       "</table>\n",
       "</div>"
      ],
      "text/plain": [
       "             ID  Price  Prod. year  Category  Leather interior  Fuel type  \\\n",
       "19232  45798355   8467        1999         1                 1          0   \n",
       "19233  45778856  15681        2011         9                 1          5   \n",
       "19234  45804997  26108        2010         4                 1          1   \n",
       "19235  45793526   5331        2007         4                 1          1   \n",
       "19236  45813273    470        2012         9                 1          2   \n",
       "\n",
       "       Engine volume  Cylinders  Gear box type  Drive wheels  Airbags  \\\n",
       "19232            2.0        4.0              1             2        5   \n",
       "19233            2.4        4.0              2             1        8   \n",
       "19234            2.0        4.0              0             1        4   \n",
       "19235            2.0        4.0              0             1        4   \n",
       "19236            2.4        4.0              0             1       12   \n",
       "\n",
       "       pricing_category  new Mileage  Engine Turbo  \n",
       "19232                 2      3.00000             1  \n",
       "19233                 1      1.61600             0  \n",
       "19234                 1      1.16365             0  \n",
       "19235                 1      0.51258             0  \n",
       "19236                 1      1.86923             0  "
      ]
     },
     "execution_count": 564,
     "metadata": {},
     "output_type": "execute_result"
    }
   ],
   "source": [
    "df.tail()"
   ]
  },
  {
   "cell_type": "code",
   "execution_count": 565,
   "id": "8cd980dc",
   "metadata": {},
   "outputs": [
    {
     "name": "stdout",
     "output_type": "stream",
     "text": [
      "<class 'pandas.core.frame.DataFrame'>\n",
      "RangeIndex: 19237 entries, 0 to 19236\n",
      "Data columns (total 14 columns):\n",
      " #   Column            Non-Null Count  Dtype  \n",
      "---  ------            --------------  -----  \n",
      " 0   ID                19237 non-null  int64  \n",
      " 1   Price             19237 non-null  int64  \n",
      " 2   Prod. year        19237 non-null  int64  \n",
      " 3   Category          19237 non-null  int64  \n",
      " 4   Leather interior  19237 non-null  int64  \n",
      " 5   Fuel type         19237 non-null  int64  \n",
      " 6   Engine volume     19237 non-null  float64\n",
      " 7   Cylinders         19237 non-null  float64\n",
      " 8   Gear box type     19237 non-null  int64  \n",
      " 9   Drive wheels      19237 non-null  int64  \n",
      " 10  Airbags           19237 non-null  int64  \n",
      " 11  pricing_category  19237 non-null  int64  \n",
      " 12  new Mileage       19237 non-null  float64\n",
      " 13  Engine Turbo      19237 non-null  int64  \n",
      "dtypes: float64(3), int64(11)\n",
      "memory usage: 2.1 MB\n"
     ]
    }
   ],
   "source": [
    "df.info()"
   ]
  },
  {
   "cell_type": "code",
   "execution_count": 566,
   "id": "4a204b05",
   "metadata": {},
   "outputs": [
    {
     "data": {
      "text/plain": [
       "0        45654403\n",
       "1        44731507\n",
       "2        45774419\n",
       "3        45769185\n",
       "4        45809263\n",
       "           ...   \n",
       "19232    45798355\n",
       "19233    45778856\n",
       "19234    45804997\n",
       "19235    45793526\n",
       "19236    45813273\n",
       "Name: ID, Length: 19237, dtype: int64"
      ]
     },
     "execution_count": 566,
     "metadata": {},
     "output_type": "execute_result"
    }
   ],
   "source": [
    "df.pop('ID')"
   ]
  },
  {
   "cell_type": "code",
   "execution_count": 568,
   "id": "9232cd34",
   "metadata": {},
   "outputs": [],
   "source": [
    "from sklearn.decomposition import PCA"
   ]
  },
  {
   "cell_type": "code",
   "execution_count": 569,
   "id": "a087acad",
   "metadata": {},
   "outputs": [
    {
     "data": {
      "text/plain": [
       "(19237, 13)"
      ]
     },
     "execution_count": 569,
     "metadata": {},
     "output_type": "execute_result"
    }
   ],
   "source": [
    "df.shape"
   ]
  },
  {
   "cell_type": "code",
   "execution_count": 570,
   "id": "e4f4f5ab",
   "metadata": {},
   "outputs": [],
   "source": [
    "pca=PCA(n_components=10)"
   ]
  },
  {
   "cell_type": "code",
   "execution_count": 571,
   "id": "0d8826c7",
   "metadata": {},
   "outputs": [
    {
     "data": {
      "text/html": [
       "<style>#sk-container-id-1 {\n",
       "  /* Definition of color scheme common for light and dark mode */\n",
       "  --sklearn-color-text: black;\n",
       "  --sklearn-color-line: gray;\n",
       "  /* Definition of color scheme for unfitted estimators */\n",
       "  --sklearn-color-unfitted-level-0: #fff5e6;\n",
       "  --sklearn-color-unfitted-level-1: #f6e4d2;\n",
       "  --sklearn-color-unfitted-level-2: #ffe0b3;\n",
       "  --sklearn-color-unfitted-level-3: chocolate;\n",
       "  /* Definition of color scheme for fitted estimators */\n",
       "  --sklearn-color-fitted-level-0: #f0f8ff;\n",
       "  --sklearn-color-fitted-level-1: #d4ebff;\n",
       "  --sklearn-color-fitted-level-2: #b3dbfd;\n",
       "  --sklearn-color-fitted-level-3: cornflowerblue;\n",
       "\n",
       "  /* Specific color for light theme */\n",
       "  --sklearn-color-text-on-default-background: var(--sg-text-color, var(--theme-code-foreground, var(--jp-content-font-color1, black)));\n",
       "  --sklearn-color-background: var(--sg-background-color, var(--theme-background, var(--jp-layout-color0, white)));\n",
       "  --sklearn-color-border-box: var(--sg-text-color, var(--theme-code-foreground, var(--jp-content-font-color1, black)));\n",
       "  --sklearn-color-icon: #696969;\n",
       "\n",
       "  @media (prefers-color-scheme: dark) {\n",
       "    /* Redefinition of color scheme for dark theme */\n",
       "    --sklearn-color-text-on-default-background: var(--sg-text-color, var(--theme-code-foreground, var(--jp-content-font-color1, white)));\n",
       "    --sklearn-color-background: var(--sg-background-color, var(--theme-background, var(--jp-layout-color0, #111)));\n",
       "    --sklearn-color-border-box: var(--sg-text-color, var(--theme-code-foreground, var(--jp-content-font-color1, white)));\n",
       "    --sklearn-color-icon: #878787;\n",
       "  }\n",
       "}\n",
       "\n",
       "#sk-container-id-1 {\n",
       "  color: var(--sklearn-color-text);\n",
       "}\n",
       "\n",
       "#sk-container-id-1 pre {\n",
       "  padding: 0;\n",
       "}\n",
       "\n",
       "#sk-container-id-1 input.sk-hidden--visually {\n",
       "  border: 0;\n",
       "  clip: rect(1px 1px 1px 1px);\n",
       "  clip: rect(1px, 1px, 1px, 1px);\n",
       "  height: 1px;\n",
       "  margin: -1px;\n",
       "  overflow: hidden;\n",
       "  padding: 0;\n",
       "  position: absolute;\n",
       "  width: 1px;\n",
       "}\n",
       "\n",
       "#sk-container-id-1 div.sk-dashed-wrapped {\n",
       "  border: 1px dashed var(--sklearn-color-line);\n",
       "  margin: 0 0.4em 0.5em 0.4em;\n",
       "  box-sizing: border-box;\n",
       "  padding-bottom: 0.4em;\n",
       "  background-color: var(--sklearn-color-background);\n",
       "}\n",
       "\n",
       "#sk-container-id-1 div.sk-container {\n",
       "  /* jupyter's `normalize.less` sets `[hidden] { display: none; }`\n",
       "     but bootstrap.min.css set `[hidden] { display: none !important; }`\n",
       "     so we also need the `!important` here to be able to override the\n",
       "     default hidden behavior on the sphinx rendered scikit-learn.org.\n",
       "     See: https://github.com/scikit-learn/scikit-learn/issues/21755 */\n",
       "  display: inline-block !important;\n",
       "  position: relative;\n",
       "}\n",
       "\n",
       "#sk-container-id-1 div.sk-text-repr-fallback {\n",
       "  display: none;\n",
       "}\n",
       "\n",
       "div.sk-parallel-item,\n",
       "div.sk-serial,\n",
       "div.sk-item {\n",
       "  /* draw centered vertical line to link estimators */\n",
       "  background-image: linear-gradient(var(--sklearn-color-text-on-default-background), var(--sklearn-color-text-on-default-background));\n",
       "  background-size: 2px 100%;\n",
       "  background-repeat: no-repeat;\n",
       "  background-position: center center;\n",
       "}\n",
       "\n",
       "/* Parallel-specific style estimator block */\n",
       "\n",
       "#sk-container-id-1 div.sk-parallel-item::after {\n",
       "  content: \"\";\n",
       "  width: 100%;\n",
       "  border-bottom: 2px solid var(--sklearn-color-text-on-default-background);\n",
       "  flex-grow: 1;\n",
       "}\n",
       "\n",
       "#sk-container-id-1 div.sk-parallel {\n",
       "  display: flex;\n",
       "  align-items: stretch;\n",
       "  justify-content: center;\n",
       "  background-color: var(--sklearn-color-background);\n",
       "  position: relative;\n",
       "}\n",
       "\n",
       "#sk-container-id-1 div.sk-parallel-item {\n",
       "  display: flex;\n",
       "  flex-direction: column;\n",
       "}\n",
       "\n",
       "#sk-container-id-1 div.sk-parallel-item:first-child::after {\n",
       "  align-self: flex-end;\n",
       "  width: 50%;\n",
       "}\n",
       "\n",
       "#sk-container-id-1 div.sk-parallel-item:last-child::after {\n",
       "  align-self: flex-start;\n",
       "  width: 50%;\n",
       "}\n",
       "\n",
       "#sk-container-id-1 div.sk-parallel-item:only-child::after {\n",
       "  width: 0;\n",
       "}\n",
       "\n",
       "/* Serial-specific style estimator block */\n",
       "\n",
       "#sk-container-id-1 div.sk-serial {\n",
       "  display: flex;\n",
       "  flex-direction: column;\n",
       "  align-items: center;\n",
       "  background-color: var(--sklearn-color-background);\n",
       "  padding-right: 1em;\n",
       "  padding-left: 1em;\n",
       "}\n",
       "\n",
       "\n",
       "/* Toggleable style: style used for estimator/Pipeline/ColumnTransformer box that is\n",
       "clickable and can be expanded/collapsed.\n",
       "- Pipeline and ColumnTransformer use this feature and define the default style\n",
       "- Estimators will overwrite some part of the style using the `sk-estimator` class\n",
       "*/\n",
       "\n",
       "/* Pipeline and ColumnTransformer style (default) */\n",
       "\n",
       "#sk-container-id-1 div.sk-toggleable {\n",
       "  /* Default theme specific background. It is overwritten whether we have a\n",
       "  specific estimator or a Pipeline/ColumnTransformer */\n",
       "  background-color: var(--sklearn-color-background);\n",
       "}\n",
       "\n",
       "/* Toggleable label */\n",
       "#sk-container-id-1 label.sk-toggleable__label {\n",
       "  cursor: pointer;\n",
       "  display: block;\n",
       "  width: 100%;\n",
       "  margin-bottom: 0;\n",
       "  padding: 0.5em;\n",
       "  box-sizing: border-box;\n",
       "  text-align: center;\n",
       "}\n",
       "\n",
       "#sk-container-id-1 label.sk-toggleable__label-arrow:before {\n",
       "  /* Arrow on the left of the label */\n",
       "  content: \"▸\";\n",
       "  float: left;\n",
       "  margin-right: 0.25em;\n",
       "  color: var(--sklearn-color-icon);\n",
       "}\n",
       "\n",
       "#sk-container-id-1 label.sk-toggleable__label-arrow:hover:before {\n",
       "  color: var(--sklearn-color-text);\n",
       "}\n",
       "\n",
       "/* Toggleable content - dropdown */\n",
       "\n",
       "#sk-container-id-1 div.sk-toggleable__content {\n",
       "  max-height: 0;\n",
       "  max-width: 0;\n",
       "  overflow: hidden;\n",
       "  text-align: left;\n",
       "  /* unfitted */\n",
       "  background-color: var(--sklearn-color-unfitted-level-0);\n",
       "}\n",
       "\n",
       "#sk-container-id-1 div.sk-toggleable__content.fitted {\n",
       "  /* fitted */\n",
       "  background-color: var(--sklearn-color-fitted-level-0);\n",
       "}\n",
       "\n",
       "#sk-container-id-1 div.sk-toggleable__content pre {\n",
       "  margin: 0.2em;\n",
       "  border-radius: 0.25em;\n",
       "  color: var(--sklearn-color-text);\n",
       "  /* unfitted */\n",
       "  background-color: var(--sklearn-color-unfitted-level-0);\n",
       "}\n",
       "\n",
       "#sk-container-id-1 div.sk-toggleable__content.fitted pre {\n",
       "  /* unfitted */\n",
       "  background-color: var(--sklearn-color-fitted-level-0);\n",
       "}\n",
       "\n",
       "#sk-container-id-1 input.sk-toggleable__control:checked~div.sk-toggleable__content {\n",
       "  /* Expand drop-down */\n",
       "  max-height: 200px;\n",
       "  max-width: 100%;\n",
       "  overflow: auto;\n",
       "}\n",
       "\n",
       "#sk-container-id-1 input.sk-toggleable__control:checked~label.sk-toggleable__label-arrow:before {\n",
       "  content: \"▾\";\n",
       "}\n",
       "\n",
       "/* Pipeline/ColumnTransformer-specific style */\n",
       "\n",
       "#sk-container-id-1 div.sk-label input.sk-toggleable__control:checked~label.sk-toggleable__label {\n",
       "  color: var(--sklearn-color-text);\n",
       "  background-color: var(--sklearn-color-unfitted-level-2);\n",
       "}\n",
       "\n",
       "#sk-container-id-1 div.sk-label.fitted input.sk-toggleable__control:checked~label.sk-toggleable__label {\n",
       "  background-color: var(--sklearn-color-fitted-level-2);\n",
       "}\n",
       "\n",
       "/* Estimator-specific style */\n",
       "\n",
       "/* Colorize estimator box */\n",
       "#sk-container-id-1 div.sk-estimator input.sk-toggleable__control:checked~label.sk-toggleable__label {\n",
       "  /* unfitted */\n",
       "  background-color: var(--sklearn-color-unfitted-level-2);\n",
       "}\n",
       "\n",
       "#sk-container-id-1 div.sk-estimator.fitted input.sk-toggleable__control:checked~label.sk-toggleable__label {\n",
       "  /* fitted */\n",
       "  background-color: var(--sklearn-color-fitted-level-2);\n",
       "}\n",
       "\n",
       "#sk-container-id-1 div.sk-label label.sk-toggleable__label,\n",
       "#sk-container-id-1 div.sk-label label {\n",
       "  /* The background is the default theme color */\n",
       "  color: var(--sklearn-color-text-on-default-background);\n",
       "}\n",
       "\n",
       "/* On hover, darken the color of the background */\n",
       "#sk-container-id-1 div.sk-label:hover label.sk-toggleable__label {\n",
       "  color: var(--sklearn-color-text);\n",
       "  background-color: var(--sklearn-color-unfitted-level-2);\n",
       "}\n",
       "\n",
       "/* Label box, darken color on hover, fitted */\n",
       "#sk-container-id-1 div.sk-label.fitted:hover label.sk-toggleable__label.fitted {\n",
       "  color: var(--sklearn-color-text);\n",
       "  background-color: var(--sklearn-color-fitted-level-2);\n",
       "}\n",
       "\n",
       "/* Estimator label */\n",
       "\n",
       "#sk-container-id-1 div.sk-label label {\n",
       "  font-family: monospace;\n",
       "  font-weight: bold;\n",
       "  display: inline-block;\n",
       "  line-height: 1.2em;\n",
       "}\n",
       "\n",
       "#sk-container-id-1 div.sk-label-container {\n",
       "  text-align: center;\n",
       "}\n",
       "\n",
       "/* Estimator-specific */\n",
       "#sk-container-id-1 div.sk-estimator {\n",
       "  font-family: monospace;\n",
       "  border: 1px dotted var(--sklearn-color-border-box);\n",
       "  border-radius: 0.25em;\n",
       "  box-sizing: border-box;\n",
       "  margin-bottom: 0.5em;\n",
       "  /* unfitted */\n",
       "  background-color: var(--sklearn-color-unfitted-level-0);\n",
       "}\n",
       "\n",
       "#sk-container-id-1 div.sk-estimator.fitted {\n",
       "  /* fitted */\n",
       "  background-color: var(--sklearn-color-fitted-level-0);\n",
       "}\n",
       "\n",
       "/* on hover */\n",
       "#sk-container-id-1 div.sk-estimator:hover {\n",
       "  /* unfitted */\n",
       "  background-color: var(--sklearn-color-unfitted-level-2);\n",
       "}\n",
       "\n",
       "#sk-container-id-1 div.sk-estimator.fitted:hover {\n",
       "  /* fitted */\n",
       "  background-color: var(--sklearn-color-fitted-level-2);\n",
       "}\n",
       "\n",
       "/* Specification for estimator info (e.g. \"i\" and \"?\") */\n",
       "\n",
       "/* Common style for \"i\" and \"?\" */\n",
       "\n",
       ".sk-estimator-doc-link,\n",
       "a:link.sk-estimator-doc-link,\n",
       "a:visited.sk-estimator-doc-link {\n",
       "  float: right;\n",
       "  font-size: smaller;\n",
       "  line-height: 1em;\n",
       "  font-family: monospace;\n",
       "  background-color: var(--sklearn-color-background);\n",
       "  border-radius: 1em;\n",
       "  height: 1em;\n",
       "  width: 1em;\n",
       "  text-decoration: none !important;\n",
       "  margin-left: 1ex;\n",
       "  /* unfitted */\n",
       "  border: var(--sklearn-color-unfitted-level-1) 1pt solid;\n",
       "  color: var(--sklearn-color-unfitted-level-1);\n",
       "}\n",
       "\n",
       ".sk-estimator-doc-link.fitted,\n",
       "a:link.sk-estimator-doc-link.fitted,\n",
       "a:visited.sk-estimator-doc-link.fitted {\n",
       "  /* fitted */\n",
       "  border: var(--sklearn-color-fitted-level-1) 1pt solid;\n",
       "  color: var(--sklearn-color-fitted-level-1);\n",
       "}\n",
       "\n",
       "/* On hover */\n",
       "div.sk-estimator:hover .sk-estimator-doc-link:hover,\n",
       ".sk-estimator-doc-link:hover,\n",
       "div.sk-label-container:hover .sk-estimator-doc-link:hover,\n",
       ".sk-estimator-doc-link:hover {\n",
       "  /* unfitted */\n",
       "  background-color: var(--sklearn-color-unfitted-level-3);\n",
       "  color: var(--sklearn-color-background);\n",
       "  text-decoration: none;\n",
       "}\n",
       "\n",
       "div.sk-estimator.fitted:hover .sk-estimator-doc-link.fitted:hover,\n",
       ".sk-estimator-doc-link.fitted:hover,\n",
       "div.sk-label-container:hover .sk-estimator-doc-link.fitted:hover,\n",
       ".sk-estimator-doc-link.fitted:hover {\n",
       "  /* fitted */\n",
       "  background-color: var(--sklearn-color-fitted-level-3);\n",
       "  color: var(--sklearn-color-background);\n",
       "  text-decoration: none;\n",
       "}\n",
       "\n",
       "/* Span, style for the box shown on hovering the info icon */\n",
       ".sk-estimator-doc-link span {\n",
       "  display: none;\n",
       "  z-index: 9999;\n",
       "  position: relative;\n",
       "  font-weight: normal;\n",
       "  right: .2ex;\n",
       "  padding: .5ex;\n",
       "  margin: .5ex;\n",
       "  width: min-content;\n",
       "  min-width: 20ex;\n",
       "  max-width: 50ex;\n",
       "  color: var(--sklearn-color-text);\n",
       "  box-shadow: 2pt 2pt 4pt #999;\n",
       "  /* unfitted */\n",
       "  background: var(--sklearn-color-unfitted-level-0);\n",
       "  border: .5pt solid var(--sklearn-color-unfitted-level-3);\n",
       "}\n",
       "\n",
       ".sk-estimator-doc-link.fitted span {\n",
       "  /* fitted */\n",
       "  background: var(--sklearn-color-fitted-level-0);\n",
       "  border: var(--sklearn-color-fitted-level-3);\n",
       "}\n",
       "\n",
       ".sk-estimator-doc-link:hover span {\n",
       "  display: block;\n",
       "}\n",
       "\n",
       "/* \"?\"-specific style due to the `<a>` HTML tag */\n",
       "\n",
       "#sk-container-id-1 a.estimator_doc_link {\n",
       "  float: right;\n",
       "  font-size: 1rem;\n",
       "  line-height: 1em;\n",
       "  font-family: monospace;\n",
       "  background-color: var(--sklearn-color-background);\n",
       "  border-radius: 1rem;\n",
       "  height: 1rem;\n",
       "  width: 1rem;\n",
       "  text-decoration: none;\n",
       "  /* unfitted */\n",
       "  color: var(--sklearn-color-unfitted-level-1);\n",
       "  border: var(--sklearn-color-unfitted-level-1) 1pt solid;\n",
       "}\n",
       "\n",
       "#sk-container-id-1 a.estimator_doc_link.fitted {\n",
       "  /* fitted */\n",
       "  border: var(--sklearn-color-fitted-level-1) 1pt solid;\n",
       "  color: var(--sklearn-color-fitted-level-1);\n",
       "}\n",
       "\n",
       "/* On hover */\n",
       "#sk-container-id-1 a.estimator_doc_link:hover {\n",
       "  /* unfitted */\n",
       "  background-color: var(--sklearn-color-unfitted-level-3);\n",
       "  color: var(--sklearn-color-background);\n",
       "  text-decoration: none;\n",
       "}\n",
       "\n",
       "#sk-container-id-1 a.estimator_doc_link.fitted:hover {\n",
       "  /* fitted */\n",
       "  background-color: var(--sklearn-color-fitted-level-3);\n",
       "}\n",
       "</style><div id=\"sk-container-id-1\" class=\"sk-top-container\"><div class=\"sk-text-repr-fallback\"><pre>PCA(n_components=10)</pre><b>In a Jupyter environment, please rerun this cell to show the HTML representation or trust the notebook. <br />On GitHub, the HTML representation is unable to render, please try loading this page with nbviewer.org.</b></div><div class=\"sk-container\" hidden><div class=\"sk-item\"><div class=\"sk-estimator fitted sk-toggleable\"><input class=\"sk-toggleable__control sk-hidden--visually\" id=\"sk-estimator-id-1\" type=\"checkbox\" checked><label for=\"sk-estimator-id-1\" class=\"sk-toggleable__label fitted sk-toggleable__label-arrow fitted\">&nbsp;&nbsp;PCA<a class=\"sk-estimator-doc-link fitted\" rel=\"noreferrer\" target=\"_blank\" href=\"https://scikit-learn.org/1.4/modules/generated/sklearn.decomposition.PCA.html\">?<span>Documentation for PCA</span></a><span class=\"sk-estimator-doc-link fitted\">i<span>Fitted</span></span></label><div class=\"sk-toggleable__content fitted\"><pre>PCA(n_components=10)</pre></div> </div></div></div></div>"
      ],
      "text/plain": [
       "PCA(n_components=10)"
      ]
     },
     "execution_count": 571,
     "metadata": {},
     "output_type": "execute_result"
    }
   ],
   "source": [
    "pca.fit(df.drop('Price',axis=1))"
   ]
  },
  {
   "cell_type": "code",
   "execution_count": 579,
   "id": "77e649f7",
   "metadata": {},
   "outputs": [
    {
     "data": {
      "text/plain": [
       "array([8.06929984e-07, 9.14319795e-07, 1.23133927e-06, 3.21411729e-06,\n",
       "       8.27741231e-06, 1.37232118e-05, 3.26058598e-05, 7.17815402e-05,\n",
       "       1.46568632e-04, 9.99719968e-01])"
      ]
     },
     "execution_count": 579,
     "metadata": {},
     "output_type": "execute_result"
    }
   ],
   "source": [
    "pca.explained_variance_ratio_"
   ]
  },
  {
   "cell_type": "code",
   "execution_count": 580,
   "id": "a1682554",
   "metadata": {},
   "outputs": [],
   "source": [
    "import seaborn as sns"
   ]
  },
  {
   "cell_type": "code",
   "execution_count": 583,
   "id": "04a6f88d",
   "metadata": {},
   "outputs": [
    {
     "data": {
      "text/html": [
       "<div>\n",
       "<style scoped>\n",
       "    .dataframe tbody tr th:only-of-type {\n",
       "        vertical-align: middle;\n",
       "    }\n",
       "\n",
       "    .dataframe tbody tr th {\n",
       "        vertical-align: top;\n",
       "    }\n",
       "\n",
       "    .dataframe thead th {\n",
       "        text-align: right;\n",
       "    }\n",
       "</style>\n",
       "<table border=\"1\" class=\"dataframe\">\n",
       "  <thead>\n",
       "    <tr style=\"text-align: right;\">\n",
       "      <th></th>\n",
       "      <th>Price</th>\n",
       "      <th>Prod. year</th>\n",
       "      <th>Category</th>\n",
       "      <th>Leather interior</th>\n",
       "      <th>Fuel type</th>\n",
       "      <th>Engine volume</th>\n",
       "      <th>Cylinders</th>\n",
       "      <th>Gear box type</th>\n",
       "      <th>Drive wheels</th>\n",
       "      <th>Airbags</th>\n",
       "      <th>pricing_category</th>\n",
       "      <th>new Mileage</th>\n",
       "      <th>Engine Turbo</th>\n",
       "    </tr>\n",
       "  </thead>\n",
       "  <tbody>\n",
       "    <tr>\n",
       "      <th>Price</th>\n",
       "      <td>1.000000</td>\n",
       "      <td>0.012982</td>\n",
       "      <td>-0.019721</td>\n",
       "      <td>0.000754</td>\n",
       "      <td>-0.012419</td>\n",
       "      <td>0.008753</td>\n",
       "      <td>0.007518</td>\n",
       "      <td>0.016340</td>\n",
       "      <td>-0.003419</td>\n",
       "      <td>-0.012824</td>\n",
       "      <td>-0.008054</td>\n",
       "      <td>-0.001758</td>\n",
       "      <td>0.017379</td>\n",
       "    </tr>\n",
       "    <tr>\n",
       "      <th>Prod. year</th>\n",
       "      <td>0.012982</td>\n",
       "      <td>1.000000</td>\n",
       "      <td>0.071538</td>\n",
       "      <td>0.390066</td>\n",
       "      <td>0.058961</td>\n",
       "      <td>-0.030906</td>\n",
       "      <td>-0.096797</td>\n",
       "      <td>-0.217766</td>\n",
       "      <td>-0.125912</td>\n",
       "      <td>0.236969</td>\n",
       "      <td>-0.020649</td>\n",
       "      <td>-0.063501</td>\n",
       "      <td>-0.076129</td>\n",
       "    </tr>\n",
       "    <tr>\n",
       "      <th>Category</th>\n",
       "      <td>-0.019721</td>\n",
       "      <td>0.071538</td>\n",
       "      <td>1.000000</td>\n",
       "      <td>0.091701</td>\n",
       "      <td>0.112440</td>\n",
       "      <td>0.002366</td>\n",
       "      <td>-0.066238</td>\n",
       "      <td>-0.011968</td>\n",
       "      <td>0.213743</td>\n",
       "      <td>0.131772</td>\n",
       "      <td>0.035560</td>\n",
       "      <td>0.008126</td>\n",
       "      <td>0.002924</td>\n",
       "    </tr>\n",
       "    <tr>\n",
       "      <th>Leather interior</th>\n",
       "      <td>0.000754</td>\n",
       "      <td>0.390066</td>\n",
       "      <td>0.091701</td>\n",
       "      <td>1.000000</td>\n",
       "      <td>-0.029814</td>\n",
       "      <td>0.274647</td>\n",
       "      <td>0.202473</td>\n",
       "      <td>-0.288992</td>\n",
       "      <td>-0.090536</td>\n",
       "      <td>0.165023</td>\n",
       "      <td>0.204345</td>\n",
       "      <td>-0.034379</td>\n",
       "      <td>-0.104140</td>\n",
       "    </tr>\n",
       "    <tr>\n",
       "      <th>Fuel type</th>\n",
       "      <td>-0.012419</td>\n",
       "      <td>0.058961</td>\n",
       "      <td>0.112440</td>\n",
       "      <td>-0.029814</td>\n",
       "      <td>1.000000</td>\n",
       "      <td>0.025386</td>\n",
       "      <td>0.081037</td>\n",
       "      <td>0.098677</td>\n",
       "      <td>-0.044218</td>\n",
       "      <td>0.081676</td>\n",
       "      <td>0.016573</td>\n",
       "      <td>-0.015306</td>\n",
       "      <td>-0.053978</td>\n",
       "    </tr>\n",
       "    <tr>\n",
       "      <th>Engine volume</th>\n",
       "      <td>0.008753</td>\n",
       "      <td>-0.030906</td>\n",
       "      <td>0.002366</td>\n",
       "      <td>0.274647</td>\n",
       "      <td>0.025386</td>\n",
       "      <td>1.000000</td>\n",
       "      <td>0.778524</td>\n",
       "      <td>-0.009996</td>\n",
       "      <td>-0.224052</td>\n",
       "      <td>0.224441</td>\n",
       "      <td>0.473171</td>\n",
       "      <td>-0.006289</td>\n",
       "      <td>-0.017052</td>\n",
       "    </tr>\n",
       "    <tr>\n",
       "      <th>Cylinders</th>\n",
       "      <td>0.007518</td>\n",
       "      <td>-0.096797</td>\n",
       "      <td>-0.066238</td>\n",
       "      <td>0.202473</td>\n",
       "      <td>0.081037</td>\n",
       "      <td>0.778524</td>\n",
       "      <td>1.000000</td>\n",
       "      <td>0.058432</td>\n",
       "      <td>-0.208963</td>\n",
       "      <td>0.176868</td>\n",
       "      <td>0.502772</td>\n",
       "      <td>-0.001768</td>\n",
       "      <td>0.036798</td>\n",
       "    </tr>\n",
       "    <tr>\n",
       "      <th>Gear box type</th>\n",
       "      <td>0.016340</td>\n",
       "      <td>-0.217766</td>\n",
       "      <td>-0.011968</td>\n",
       "      <td>-0.288992</td>\n",
       "      <td>0.098677</td>\n",
       "      <td>-0.009996</td>\n",
       "      <td>0.058432</td>\n",
       "      <td>1.000000</td>\n",
       "      <td>0.088333</td>\n",
       "      <td>0.107086</td>\n",
       "      <td>0.087861</td>\n",
       "      <td>0.016299</td>\n",
       "      <td>0.265558</td>\n",
       "    </tr>\n",
       "    <tr>\n",
       "      <th>Drive wheels</th>\n",
       "      <td>-0.003419</td>\n",
       "      <td>-0.125912</td>\n",
       "      <td>0.213743</td>\n",
       "      <td>-0.090536</td>\n",
       "      <td>-0.044218</td>\n",
       "      <td>-0.224052</td>\n",
       "      <td>-0.208963</td>\n",
       "      <td>0.088333</td>\n",
       "      <td>1.000000</td>\n",
       "      <td>-0.023810</td>\n",
       "      <td>-0.027315</td>\n",
       "      <td>0.008567</td>\n",
       "      <td>0.070054</td>\n",
       "    </tr>\n",
       "    <tr>\n",
       "      <th>Airbags</th>\n",
       "      <td>-0.012824</td>\n",
       "      <td>0.236969</td>\n",
       "      <td>0.131772</td>\n",
       "      <td>0.165023</td>\n",
       "      <td>0.081676</td>\n",
       "      <td>0.224441</td>\n",
       "      <td>0.176868</td>\n",
       "      <td>0.107086</td>\n",
       "      <td>-0.023810</td>\n",
       "      <td>1.000000</td>\n",
       "      <td>0.164411</td>\n",
       "      <td>-0.009201</td>\n",
       "      <td>0.061623</td>\n",
       "    </tr>\n",
       "    <tr>\n",
       "      <th>pricing_category</th>\n",
       "      <td>-0.008054</td>\n",
       "      <td>-0.020649</td>\n",
       "      <td>0.035560</td>\n",
       "      <td>0.204345</td>\n",
       "      <td>0.016573</td>\n",
       "      <td>0.473171</td>\n",
       "      <td>0.502772</td>\n",
       "      <td>0.087861</td>\n",
       "      <td>-0.027315</td>\n",
       "      <td>0.164411</td>\n",
       "      <td>1.000000</td>\n",
       "      <td>-0.002512</td>\n",
       "      <td>0.131928</td>\n",
       "    </tr>\n",
       "    <tr>\n",
       "      <th>new Mileage</th>\n",
       "      <td>-0.001758</td>\n",
       "      <td>-0.063501</td>\n",
       "      <td>0.008126</td>\n",
       "      <td>-0.034379</td>\n",
       "      <td>-0.015306</td>\n",
       "      <td>-0.006289</td>\n",
       "      <td>-0.001768</td>\n",
       "      <td>0.016299</td>\n",
       "      <td>0.008567</td>\n",
       "      <td>-0.009201</td>\n",
       "      <td>-0.002512</td>\n",
       "      <td>1.000000</td>\n",
       "      <td>-0.001511</td>\n",
       "    </tr>\n",
       "    <tr>\n",
       "      <th>Engine Turbo</th>\n",
       "      <td>0.017379</td>\n",
       "      <td>-0.076129</td>\n",
       "      <td>0.002924</td>\n",
       "      <td>-0.104140</td>\n",
       "      <td>-0.053978</td>\n",
       "      <td>-0.017052</td>\n",
       "      <td>0.036798</td>\n",
       "      <td>0.265558</td>\n",
       "      <td>0.070054</td>\n",
       "      <td>0.061623</td>\n",
       "      <td>0.131928</td>\n",
       "      <td>-0.001511</td>\n",
       "      <td>1.000000</td>\n",
       "    </tr>\n",
       "  </tbody>\n",
       "</table>\n",
       "</div>"
      ],
      "text/plain": [
       "                     Price  Prod. year  Category  Leather interior  Fuel type  \\\n",
       "Price             1.000000    0.012982 -0.019721          0.000754  -0.012419   \n",
       "Prod. year        0.012982    1.000000  0.071538          0.390066   0.058961   \n",
       "Category         -0.019721    0.071538  1.000000          0.091701   0.112440   \n",
       "Leather interior  0.000754    0.390066  0.091701          1.000000  -0.029814   \n",
       "Fuel type        -0.012419    0.058961  0.112440         -0.029814   1.000000   \n",
       "Engine volume     0.008753   -0.030906  0.002366          0.274647   0.025386   \n",
       "Cylinders         0.007518   -0.096797 -0.066238          0.202473   0.081037   \n",
       "Gear box type     0.016340   -0.217766 -0.011968         -0.288992   0.098677   \n",
       "Drive wheels     -0.003419   -0.125912  0.213743         -0.090536  -0.044218   \n",
       "Airbags          -0.012824    0.236969  0.131772          0.165023   0.081676   \n",
       "pricing_category -0.008054   -0.020649  0.035560          0.204345   0.016573   \n",
       "new Mileage      -0.001758   -0.063501  0.008126         -0.034379  -0.015306   \n",
       "Engine Turbo      0.017379   -0.076129  0.002924         -0.104140  -0.053978   \n",
       "\n",
       "                  Engine volume  Cylinders  Gear box type  Drive wheels  \\\n",
       "Price                  0.008753   0.007518       0.016340     -0.003419   \n",
       "Prod. year            -0.030906  -0.096797      -0.217766     -0.125912   \n",
       "Category               0.002366  -0.066238      -0.011968      0.213743   \n",
       "Leather interior       0.274647   0.202473      -0.288992     -0.090536   \n",
       "Fuel type              0.025386   0.081037       0.098677     -0.044218   \n",
       "Engine volume          1.000000   0.778524      -0.009996     -0.224052   \n",
       "Cylinders              0.778524   1.000000       0.058432     -0.208963   \n",
       "Gear box type         -0.009996   0.058432       1.000000      0.088333   \n",
       "Drive wheels          -0.224052  -0.208963       0.088333      1.000000   \n",
       "Airbags                0.224441   0.176868       0.107086     -0.023810   \n",
       "pricing_category       0.473171   0.502772       0.087861     -0.027315   \n",
       "new Mileage           -0.006289  -0.001768       0.016299      0.008567   \n",
       "Engine Turbo          -0.017052   0.036798       0.265558      0.070054   \n",
       "\n",
       "                   Airbags  pricing_category  new Mileage  Engine Turbo  \n",
       "Price            -0.012824         -0.008054    -0.001758      0.017379  \n",
       "Prod. year        0.236969         -0.020649    -0.063501     -0.076129  \n",
       "Category          0.131772          0.035560     0.008126      0.002924  \n",
       "Leather interior  0.165023          0.204345    -0.034379     -0.104140  \n",
       "Fuel type         0.081676          0.016573    -0.015306     -0.053978  \n",
       "Engine volume     0.224441          0.473171    -0.006289     -0.017052  \n",
       "Cylinders         0.176868          0.502772    -0.001768      0.036798  \n",
       "Gear box type     0.107086          0.087861     0.016299      0.265558  \n",
       "Drive wheels     -0.023810         -0.027315     0.008567      0.070054  \n",
       "Airbags           1.000000          0.164411    -0.009201      0.061623  \n",
       "pricing_category  0.164411          1.000000    -0.002512      0.131928  \n",
       "new Mileage      -0.009201         -0.002512     1.000000     -0.001511  \n",
       "Engine Turbo      0.061623          0.131928    -0.001511      1.000000  "
      ]
     },
     "execution_count": 583,
     "metadata": {},
     "output_type": "execute_result"
    }
   ],
   "source": [
    "df.corr()"
   ]
  },
  {
   "cell_type": "code",
   "execution_count": 588,
   "id": "68db5d5c",
   "metadata": {},
   "outputs": [],
   "source": [
    "import matplotlib.pyplot as plt"
   ]
  },
  {
   "cell_type": "code",
   "execution_count": 590,
   "id": "77ce3fbe",
   "metadata": {},
   "outputs": [
    {
     "data": {
      "text/plain": [
       "<AxesSubplot:xlabel='pricing_category', ylabel='Count'>"
      ]
     },
     "execution_count": 590,
     "metadata": {},
     "output_type": "execute_result"
    },
    {
     "data": {
      "image/png": "[encoded data removed]",
      "text/plain": [
       "<Figure size 640x480 with 1 Axes>"
      ]
     },
     "metadata": {},
     "output_type": "display_data"
    }
   ],
   "source": [
    "# sns.histplot(df['pricing_category'])\n",
    "sns.histplot(df['pricing_category'])"
   ]
  },
  {
   "cell_type": "code",
   "execution_count": 598,
   "id": "8ae062bd",
   "metadata": {},
   "outputs": [
    {
     "data": {
      "text/plain": [
       "<AxesSubplot:xlabel='pricing_category', ylabel='Price'>"
      ]
     },
     "execution_count": 598,
     "metadata": {},
     "output_type": "execute_result"
    },
    {
     "data": {
      "image/png": "[encoded data removed]",
      "text/plain": [
       "<Figure size 640x480 with 1 Axes>"
      ]
     },
     "metadata": {},
     "output_type": "display_data"
    }
   ],
   "source": [
    "sns.scatterplot(x='pricing_category',y='Price',data=df,hue='pricing_category')"
   ]
  }
 ],
 "metadata": {
  "kernelspec": {
   "display_name": "Python 3 (ipykernel)",
   "language": "python",
   "name": "python3"
  },
  "language_info": {
   "codemirror_mode": {
    "name": "ipython",
    "version": 3
   },
   "file_extension": ".py",
   "mimetype": "text/x-python",
   "name": "python",
   "nbconvert_exporter": "python",
   "pygments_lexer": "ipython3",
   "version": "3.10.12"
  }
 },
 "nbformat": 4,
 "nbformat_minor": 5
}
