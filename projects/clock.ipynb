{
 "cells": [
  {
   "cell_type": "code",
   "execution_count": 23,
   "id": "28929345",
   "metadata": {},
   "outputs": [],
   "source": [
    "from tkinter import Tk\n",
    "from tkinter import Label\n",
    "import time\n",
    "import sys\n",
    "\n",
    "master=Tk()\n",
    "master.title(\"Digital Clock\")\n",
    "\n",
    "def get_time():\n",
    "    timevar = time.strftime(\"%I:%M:%S %p\")\n",
    "    clock.config(text =timevar)\n",
    "    clock.after(200,get_time)\n",
    "\n",
    "Label(master,font=(\"Calibiri,25\"),bg=\"orange\",fg=\"black\",text=\"Digital Clock\").pack()\n",
    "clock=Label(master,font=(\"Calibiri\",90),bg=\"black\",fg=\"orange\")\n",
    "clock.pack()\n",
    "\n",
    "get_time()\n",
    "master.mainloop()\n"
   ]
  },
  {
   "cell_type": "code",
   "execution_count": null,
   "id": "8221a50f",
   "metadata": {},
   "outputs": [],
   "source": []
  }
 ],
 "metadata": {
  "kernelspec": {
   "display_name": "Python 3 (ipykernel)",
   "language": "python",
   "name": "python3"
  },
  "language_info": {
   "codemirror_mode": {
    "name": "ipython",
    "version": 3
   },
   "file_extension": ".py",
   "mimetype": "text/x-python",
   "name": "python",
   "nbconvert_exporter": "python",
   "pygments_lexer": "ipython3",
   "version": "3.9.12"
  }
 },
 "nbformat": 4,
 "nbformat_minor": 5
}
